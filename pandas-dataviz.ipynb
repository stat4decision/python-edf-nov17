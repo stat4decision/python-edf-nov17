{
 "cells": [
  {
   "cell_type": "markdown",
   "metadata": {},
   "source": [
    "## PANDAS"
   ]
  },
  {
   "cell_type": "code",
   "execution_count": 1,
   "metadata": {
    "collapsed": true
   },
   "outputs": [],
   "source": [
    "import numpy as np\n",
    "import pandas as pd\n",
    "import matplotlib.pyplot as plt\n",
    "%matplotlib inline"
   ]
  },
  {
   "cell_type": "code",
   "execution_count": 2,
   "metadata": {
    "collapsed": true
   },
   "outputs": [],
   "source": [
    "from pandas import Series, DataFrame"
   ]
  },
  {
   "cell_type": "markdown",
   "metadata": {},
   "source": [
    "Définir un objet Series comprenant la population de 5 pays puis afficher les pays ayant une population > 50’000’000.\n"
   ]
  },
  {
   "cell_type": "code",
   "execution_count": 3,
   "metadata": {
    "collapsed": true
   },
   "outputs": [],
   "source": [
    "ser_pays=Series([65,35,8,1200,300],index=[\"France\",\"Espagne\",\"Suisse\",\"Chine\"\n",
    "                                         ,\"USA\"])"
   ]
  },
  {
   "cell_type": "code",
   "execution_count": 4,
   "metadata": {
    "collapsed": false
   },
   "outputs": [
    {
     "data": {
      "text/plain": [
       "France       65\n",
       "Espagne      35\n",
       "Suisse        8\n",
       "Chine      1200\n",
       "USA         300\n",
       "dtype: int64"
      ]
     },
     "execution_count": 4,
     "metadata": {},
     "output_type": "execute_result"
    }
   ],
   "source": [
    "ser_pays"
   ]
  },
  {
   "cell_type": "code",
   "execution_count": 5,
   "metadata": {
    "collapsed": false
   },
   "outputs": [
    {
     "data": {
      "text/plain": [
       "Espagne      35\n",
       "Suisse        8\n",
       "Chine      1200\n",
       "dtype: int64"
      ]
     },
     "execution_count": 5,
     "metadata": {},
     "output_type": "execute_result"
    }
   ],
   "source": [
    "#on sélectionne par position\n",
    "ser_pays[1:4]"
   ]
  },
  {
   "cell_type": "code",
   "execution_count": 6,
   "metadata": {
    "collapsed": false
   },
   "outputs": [
    {
     "data": {
      "text/plain": [
       "France    65\n",
       "Suisse     8\n",
       "dtype: int64"
      ]
     },
     "execution_count": 6,
     "metadata": {},
     "output_type": "execute_result"
    }
   ],
   "source": [
    "#on sélectionne par index\n",
    "ser_pays[[\"France\",\"Suisse\"]]"
   ]
  },
  {
   "cell_type": "code",
   "execution_count": 7,
   "metadata": {
    "collapsed": false
   },
   "outputs": [],
   "source": [
    "#on applique des conditions simples\n",
    "ser_grand_pays=ser_pays[ser_pays>50]"
   ]
  },
  {
   "cell_type": "code",
   "execution_count": 8,
   "metadata": {
    "collapsed": false
   },
   "outputs": [
    {
     "data": {
      "text/plain": [
       "array([  65, 1200,  300], dtype=int64)"
      ]
     },
     "execution_count": 8,
     "metadata": {},
     "output_type": "execute_result"
    }
   ],
   "source": [
    "ser_grand_pays.values"
   ]
  },
  {
   "cell_type": "code",
   "execution_count": 9,
   "metadata": {
    "collapsed": false,
    "scrolled": true
   },
   "outputs": [
    {
     "data": {
      "text/plain": [
       "France      65\n",
       "Suisse       8\n",
       "Chine     1200\n",
       "USA        300\n",
       "dtype: int64"
      ]
     },
     "execution_count": 9,
     "metadata": {},
     "output_type": "execute_result"
    }
   ],
   "source": [
    "#des conditions multiples\n",
    "ser_pays[(ser_pays>50) | (ser_pays<30)]"
   ]
  },
  {
   "cell_type": "markdown",
   "metadata": {},
   "source": [
    "Travail sur les dates"
   ]
  },
  {
   "cell_type": "code",
   "execution_count": 10,
   "metadata": {
    "collapsed": true
   },
   "outputs": [],
   "source": [
    "import datetime"
   ]
  },
  {
   "cell_type": "code",
   "execution_count": 11,
   "metadata": {
    "collapsed": true
   },
   "outputs": [],
   "source": [
    "dates=pd.date_range(\"2017-01-01\",datetime.date.today(),freq=\"D\")"
   ]
  },
  {
   "cell_type": "code",
   "execution_count": 12,
   "metadata": {
    "collapsed": false
   },
   "outputs": [
    {
     "data": {
      "text/plain": [
       "DatetimeIndex(['2017-01-01', '2017-01-02', '2017-01-03', '2017-01-04',\n",
       "               '2017-01-05', '2017-01-06', '2017-01-07', '2017-01-08',\n",
       "               '2017-01-09', '2017-01-10',\n",
       "               ...\n",
       "               '2017-11-20', '2017-11-21', '2017-11-22', '2017-11-23',\n",
       "               '2017-11-24', '2017-11-25', '2017-11-26', '2017-11-27',\n",
       "               '2017-11-28', '2017-11-29'],\n",
       "              dtype='datetime64[ns]', length=333, freq='D')"
      ]
     },
     "execution_count": 12,
     "metadata": {},
     "output_type": "execute_result"
    }
   ],
   "source": [
    "dates"
   ]
  },
  {
   "cell_type": "code",
   "execution_count": 13,
   "metadata": {
    "collapsed": true
   },
   "outputs": [],
   "source": [
    "ser_bourse=Series(np.random.randn(len(dates)),index=dates)"
   ]
  },
  {
   "cell_type": "code",
   "execution_count": 14,
   "metadata": {
    "collapsed": false
   },
   "outputs": [
    {
     "data": {
      "text/plain": [
       "(333,)"
      ]
     },
     "execution_count": 14,
     "metadata": {},
     "output_type": "execute_result"
    }
   ],
   "source": [
    "ser_bourse.shape"
   ]
  },
  {
   "cell_type": "code",
   "execution_count": 15,
   "metadata": {
    "collapsed": false
   },
   "outputs": [
    {
     "data": {
      "text/plain": [
       "[<matplotlib.lines.Line2D at 0x16373408f28>]"
      ]
     },
     "execution_count": 15,
     "metadata": {},
     "output_type": "execute_result"
    },
    {
     "data": {
      "image/png": "[encoded data removed]",
      "text/plain": [
       "<matplotlib.figure.Figure at 0x16372f78940>"
      ]
     },
     "metadata": {},
     "output_type": "display_data"
    }
   ],
   "source": [
    "plt.plot(ser_bourse)"
   ]
  },
  {
   "cell_type": "markdown",
   "metadata": {},
   "source": [
    "Récupérez les données de Wikipédia sur les résultats de NBA et obtenir les statistiques descriptives pour les variables quantitatives.\n",
    "On utilisera plutôt Chrome ou Firefox pour ce type de tâches (éviter IE)\n"
   ]
  },
  {
   "cell_type": "code",
   "execution_count": 22,
   "metadata": {
    "collapsed": false
   },
   "outputs": [
    {
     "data": {
      "text/plain": [
       "True"
      ]
     },
     "execution_count": 22,
     "metadata": {},
     "output_type": "execute_result"
    }
   ],
   "source": [
    "import webbrowser\n",
    "url='https://en.wikipedia.org/wiki/List_of_all-time_NBA_win-loss_records'\n",
    "webbrowser.open(url)"
   ]
  },
  {
   "cell_type": "code",
   "execution_count": 23,
   "metadata": {
    "collapsed": true
   },
   "outputs": [],
   "source": [
    "#puis\n",
    "frame_nba=pd.read_clipboard()"
   ]
  },
  {
   "cell_type": "code",
   "execution_count": 24,
   "metadata": {
    "collapsed": false
   },
   "outputs": [
    {
     "data": {
      "text/html": [
       "<div>\n",
       "<style>\n",
       "    .dataframe thead tr:only-child th {\n",
       "        text-align: right;\n",
       "    }\n",
       "\n",
       "    .dataframe thead th {\n",
       "        text-align: left;\n",
       "    }\n",
       "\n",
       "    .dataframe tbody tr th {\n",
       "        vertical-align: top;\n",
       "    }\n",
       "</style>\n",
       "<table border=\"1\" class=\"dataframe\">\n",
       "  <thead>\n",
       "    <tr style=\"text-align: right;\">\n",
       "      <th></th>\n",
       "      <th>Rank</th>\n",
       "      <th>Team</th>\n",
       "      <th>Won</th>\n",
       "      <th>Lost</th>\n",
       "      <th>Pct.</th>\n",
       "      <th>First NBA Season</th>\n",
       "      <th>Total Games</th>\n",
       "      <th>Division</th>\n",
       "    </tr>\n",
       "  </thead>\n",
       "  <tbody>\n",
       "    <tr>\n",
       "      <th>0</th>\n",
       "      <td>1</td>\n",
       "      <td>San Antonio Spurs</td>\n",
       "      <td>2,006</td>\n",
       "      <td>1,226</td>\n",
       "      <td>0.621</td>\n",
       "      <td>1976?77</td>\n",
       "      <td>3,232</td>\n",
       "      <td>Southwest</td>\n",
       "    </tr>\n",
       "    <tr>\n",
       "      <th>1</th>\n",
       "      <td>2</td>\n",
       "      <td>Los Angeles Lakers</td>\n",
       "      <td>3,235</td>\n",
       "      <td>2,134</td>\n",
       "      <td>0.603</td>\n",
       "      <td>1948?49</td>\n",
       "      <td>5,369</td>\n",
       "      <td>Pacific</td>\n",
       "    </tr>\n",
       "    <tr>\n",
       "      <th>2</th>\n",
       "      <td>3</td>\n",
       "      <td>Boston Celtics</td>\n",
       "      <td>3,221</td>\n",
       "      <td>2,257</td>\n",
       "      <td>0.588</td>\n",
       "      <td>1946?47</td>\n",
       "      <td>5,478</td>\n",
       "      <td>Atlantic</td>\n",
       "    </tr>\n",
       "    <tr>\n",
       "      <th>3</th>\n",
       "      <td>4</td>\n",
       "      <td>Phoenix Suns</td>\n",
       "      <td>2,122</td>\n",
       "      <td>1,766</td>\n",
       "      <td>0.546</td>\n",
       "      <td>1968?69</td>\n",
       "      <td>3,888</td>\n",
       "      <td>Pacific</td>\n",
       "    </tr>\n",
       "    <tr>\n",
       "      <th>4</th>\n",
       "      <td>5</td>\n",
       "      <td>Oklahoma City Thunder</td>\n",
       "      <td>2,139</td>\n",
       "      <td>1,831</td>\n",
       "      <td>0.539</td>\n",
       "      <td>1967?68</td>\n",
       "      <td>3,97</td>\n",
       "      <td>Northwest</td>\n",
       "    </tr>\n",
       "  </tbody>\n",
       "</table>\n",
       "</div>"
      ],
      "text/plain": [
       "   Rank                   Team    Won   Lost   Pct. First NBA Season  \\\n",
       "0     1      San Antonio Spurs  2,006  1,226  0.621          1976?77   \n",
       "1     2     Los Angeles Lakers  3,235  2,134  0.603          1948?49   \n",
       "2     3         Boston Celtics  3,221  2,257  0.588          1946?47   \n",
       "3     4           Phoenix Suns  2,122  1,766  0.546          1968?69   \n",
       "4     5  Oklahoma City Thunder  2,139  1,831  0.539          1967?68   \n",
       "\n",
       "  Total Games   Division  \n",
       "0       3,232  Southwest  \n",
       "1       5,369    Pacific  \n",
       "2       5,478   Atlantic  \n",
       "3       3,888    Pacific  \n",
       "4        3,97  Northwest  "
      ]
     },
     "execution_count": 24,
     "metadata": {},
     "output_type": "execute_result"
    }
   ],
   "source": [
    "frame_nba.head()"
   ]
  },
  {
   "cell_type": "code",
   "execution_count": 25,
   "metadata": {
    "collapsed": false
   },
   "outputs": [
    {
     "name": "stdout",
     "output_type": "stream",
     "text": [
      "<class 'pandas.core.frame.DataFrame'>\n",
      "RangeIndex: 30 entries, 0 to 29\n",
      "Data columns (total 8 columns):\n",
      "Rank                30 non-null int64\n",
      "Team                30 non-null object\n",
      "Won                 30 non-null object\n",
      "Lost                30 non-null object\n",
      "Pct.                30 non-null float64\n",
      "First NBA Season    30 non-null object\n",
      "Total Games         30 non-null object\n",
      "Division            30 non-null object\n",
      "dtypes: float64(1), int64(1), object(6)\n",
      "memory usage: 2.0+ KB\n"
     ]
    }
   ],
   "source": [
    "frame_nba.info()"
   ]
  },
  {
   "cell_type": "code",
   "execution_count": 26,
   "metadata": {
    "collapsed": false
   },
   "outputs": [
    {
     "data": {
      "text/plain": [
       "Index(['Rank', 'Team', 'Won', 'Lost', 'Pct.', 'First NBA Season',\n",
       "       'Total Games', 'Division'],\n",
       "      dtype='object')"
      ]
     },
     "execution_count": 26,
     "metadata": {},
     "output_type": "execute_result"
    }
   ],
   "source": [
    "#affichage du nom des colonnes\n",
    "frame_nba.columns"
   ]
  },
  {
   "cell_type": "code",
   "execution_count": 27,
   "metadata": {
    "collapsed": false
   },
   "outputs": [],
   "source": [
    "#créer une variable\n",
    "frame_nba[\"Won2\"]=frame_nba[\"Won\"].str.replace(\",\",\"\")"
   ]
  },
  {
   "cell_type": "markdown",
   "metadata": {},
   "source": [
    "Créer une procédure qui supprime les virgules dans les colonnes du dataframe"
   ]
  },
  {
   "cell_type": "code",
   "execution_count": 28,
   "metadata": {
    "collapsed": true
   },
   "outputs": [],
   "source": [
    "def nettoyage(frame):\n",
    "    \"\"\"Cette fonction permet de transformer les colonnes ayant des séparateurs de \n",
    "    milliers , en colonnes float\"\"\"\n",
    "    for col in frame.columns:\n",
    "        if frame[col].dtype==object:\n",
    "            frame[col]=frame[col].str.replace(\",\",\"\").astype(float, \n",
    "                                                             errors='ignore')"
   ]
  },
  {
   "cell_type": "code",
   "execution_count": 29,
   "metadata": {
    "collapsed": false
   },
   "outputs": [],
   "source": [
    "nettoyage(frame_nba)"
   ]
  },
  {
   "cell_type": "code",
   "execution_count": 30,
   "metadata": {
    "collapsed": false
   },
   "outputs": [],
   "source": [
    "#on fait un tri sur deux clés\n",
    "frame_nba.sort_values([\"Division\",\"Won\"],ascending=[True,False],inplace=True)"
   ]
  },
  {
   "cell_type": "code",
   "execution_count": 31,
   "metadata": {
    "collapsed": false
   },
   "outputs": [],
   "source": [
    "mes_sats=frame_nba.describe(include=\"all\")"
   ]
  },
  {
   "cell_type": "code",
   "execution_count": 32,
   "metadata": {
    "collapsed": false
   },
   "outputs": [
    {
     "data": {
      "text/plain": [
       "Rank                   15.5\n",
       "Team                    NaN\n",
       "Won                 1619.87\n",
       "Lost                1843.83\n",
       "Pct.                  0.494\n",
       "First NBA Season        NaN\n",
       "Total Games          3458.6\n",
       "Division                NaN\n",
       "Won2                1619.87\n",
       "Name: mean, dtype: object"
      ]
     },
     "execution_count": 32,
     "metadata": {},
     "output_type": "execute_result"
    }
   ],
   "source": [
    "mes_sats.loc[\"mean\"]"
   ]
  },
  {
   "cell_type": "code",
   "execution_count": 33,
   "metadata": {
    "collapsed": false
   },
   "outputs": [
    {
     "data": {
      "text/html": [
       "<div>\n",
       "<style>\n",
       "    .dataframe thead tr:only-child th {\n",
       "        text-align: right;\n",
       "    }\n",
       "\n",
       "    .dataframe thead th {\n",
       "        text-align: left;\n",
       "    }\n",
       "\n",
       "    .dataframe tbody tr th {\n",
       "        vertical-align: top;\n",
       "    }\n",
       "</style>\n",
       "<table border=\"1\" class=\"dataframe\">\n",
       "  <thead>\n",
       "    <tr style=\"text-align: right;\">\n",
       "      <th></th>\n",
       "      <th>Rank</th>\n",
       "      <th>Won</th>\n",
       "      <th>Lost</th>\n",
       "      <th>Pct.</th>\n",
       "      <th>Total Games</th>\n",
       "      <th>Won2</th>\n",
       "    </tr>\n",
       "  </thead>\n",
       "  <tbody>\n",
       "    <tr>\n",
       "      <th>Rank</th>\n",
       "      <td>1.000000</td>\n",
       "      <td>-0.530043</td>\n",
       "      <td>-0.065044</td>\n",
       "      <td>-0.969359</td>\n",
       "      <td>-0.152724</td>\n",
       "      <td>-0.530043</td>\n",
       "    </tr>\n",
       "    <tr>\n",
       "      <th>Won</th>\n",
       "      <td>-0.530043</td>\n",
       "      <td>1.000000</td>\n",
       "      <td>0.460404</td>\n",
       "      <td>0.561834</td>\n",
       "      <td>0.438219</td>\n",
       "      <td>1.000000</td>\n",
       "    </tr>\n",
       "    <tr>\n",
       "      <th>Lost</th>\n",
       "      <td>-0.065044</td>\n",
       "      <td>0.460404</td>\n",
       "      <td>1.000000</td>\n",
       "      <td>0.074978</td>\n",
       "      <td>0.793153</td>\n",
       "      <td>0.460404</td>\n",
       "    </tr>\n",
       "    <tr>\n",
       "      <th>Pct.</th>\n",
       "      <td>-0.969359</td>\n",
       "      <td>0.561834</td>\n",
       "      <td>0.074978</td>\n",
       "      <td>1.000000</td>\n",
       "      <td>0.219929</td>\n",
       "      <td>0.561834</td>\n",
       "    </tr>\n",
       "    <tr>\n",
       "      <th>Total Games</th>\n",
       "      <td>-0.152724</td>\n",
       "      <td>0.438219</td>\n",
       "      <td>0.793153</td>\n",
       "      <td>0.219929</td>\n",
       "      <td>1.000000</td>\n",
       "      <td>0.438219</td>\n",
       "    </tr>\n",
       "    <tr>\n",
       "      <th>Won2</th>\n",
       "      <td>-0.530043</td>\n",
       "      <td>1.000000</td>\n",
       "      <td>0.460404</td>\n",
       "      <td>0.561834</td>\n",
       "      <td>0.438219</td>\n",
       "      <td>1.000000</td>\n",
       "    </tr>\n",
       "  </tbody>\n",
       "</table>\n",
       "</div>"
      ],
      "text/plain": [
       "                 Rank       Won      Lost      Pct.  Total Games      Won2\n",
       "Rank         1.000000 -0.530043 -0.065044 -0.969359    -0.152724 -0.530043\n",
       "Won         -0.530043  1.000000  0.460404  0.561834     0.438219  1.000000\n",
       "Lost        -0.065044  0.460404  1.000000  0.074978     0.793153  0.460404\n",
       "Pct.        -0.969359  0.561834  0.074978  1.000000     0.219929  0.561834\n",
       "Total Games -0.152724  0.438219  0.793153  0.219929     1.000000  0.438219\n",
       "Won2        -0.530043  1.000000  0.460404  0.561834     0.438219  1.000000"
      ]
     },
     "execution_count": 33,
     "metadata": {},
     "output_type": "execute_result"
    }
   ],
   "source": [
    "frame_nba.corr()"
   ]
  },
  {
   "cell_type": "markdown",
   "metadata": {},
   "source": [
    "### Import de fichier"
   ]
  },
  {
   "cell_type": "code",
   "execution_count": 34,
   "metadata": {
    "collapsed": false
   },
   "outputs": [],
   "source": [
    "#csv\n",
    "frame_ventes=pd.read_csv(\"demo_ventes.csv\",sep=\";\",decimal=\",\")"
   ]
  },
  {
   "cell_type": "code",
   "execution_count": 35,
   "metadata": {
    "collapsed": false,
    "scrolled": true
   },
   "outputs": [
    {
     "data": {
      "text/html": [
       "<div>\n",
       "<style>\n",
       "    .dataframe thead tr:only-child th {\n",
       "        text-align: right;\n",
       "    }\n",
       "\n",
       "    .dataframe thead th {\n",
       "        text-align: left;\n",
       "    }\n",
       "\n",
       "    .dataframe tbody tr th {\n",
       "        vertical-align: top;\n",
       "    }\n",
       "</style>\n",
       "<table border=\"1\" class=\"dataframe\">\n",
       "  <thead>\n",
       "    <tr style=\"text-align: right;\">\n",
       "      <th></th>\n",
       "      <th>account</th>\n",
       "      <th>Jan</th>\n",
       "      <th>Feb</th>\n",
       "      <th>Mar</th>\n",
       "    </tr>\n",
       "  </thead>\n",
       "  <tbody>\n",
       "    <tr>\n",
       "      <th>0</th>\n",
       "      <td>211829</td>\n",
       "      <td>10000</td>\n",
       "      <td>62000</td>\n",
       "      <td>35000</td>\n",
       "    </tr>\n",
       "    <tr>\n",
       "      <th>1</th>\n",
       "      <td>320563</td>\n",
       "      <td>95000</td>\n",
       "      <td>45000</td>\n",
       "      <td>35000</td>\n",
       "    </tr>\n",
       "    <tr>\n",
       "      <th>2</th>\n",
       "      <td>648336</td>\n",
       "      <td>91000</td>\n",
       "      <td>120000</td>\n",
       "      <td>35000</td>\n",
       "    </tr>\n",
       "    <tr>\n",
       "      <th>3</th>\n",
       "      <td>109996</td>\n",
       "      <td>45000</td>\n",
       "      <td>120000</td>\n",
       "      <td>10000</td>\n",
       "    </tr>\n",
       "    <tr>\n",
       "      <th>4</th>\n",
       "      <td>121213</td>\n",
       "      <td>162000</td>\n",
       "      <td>120000</td>\n",
       "      <td>35000</td>\n",
       "    </tr>\n",
       "    <tr>\n",
       "      <th>5</th>\n",
       "      <td>132971</td>\n",
       "      <td>150000</td>\n",
       "      <td>120000</td>\n",
       "      <td>35000</td>\n",
       "    </tr>\n",
       "    <tr>\n",
       "      <th>6</th>\n",
       "      <td>145068</td>\n",
       "      <td>62000</td>\n",
       "      <td>120000</td>\n",
       "      <td>70000</td>\n",
       "    </tr>\n",
       "    <tr>\n",
       "      <th>7</th>\n",
       "      <td>205217</td>\n",
       "      <td>145000</td>\n",
       "      <td>95000</td>\n",
       "      <td>35000</td>\n",
       "    </tr>\n",
       "    <tr>\n",
       "      <th>8</th>\n",
       "      <td>209744</td>\n",
       "      <td>70000</td>\n",
       "      <td>95000</td>\n",
       "      <td>35000</td>\n",
       "    </tr>\n",
       "    <tr>\n",
       "      <th>9</th>\n",
       "      <td>212303</td>\n",
       "      <td>70000</td>\n",
       "      <td>120000</td>\n",
       "      <td>35000</td>\n",
       "    </tr>\n",
       "    <tr>\n",
       "      <th>10</th>\n",
       "      <td>214098</td>\n",
       "      <td>45000</td>\n",
       "      <td>120000</td>\n",
       "      <td>55000</td>\n",
       "    </tr>\n",
       "    <tr>\n",
       "      <th>11</th>\n",
       "      <td>231907</td>\n",
       "      <td>150000</td>\n",
       "      <td>10000</td>\n",
       "      <td>162000</td>\n",
       "    </tr>\n",
       "    <tr>\n",
       "      <th>12</th>\n",
       "      <td>242368</td>\n",
       "      <td>162000</td>\n",
       "      <td>120000</td>\n",
       "      <td>35000</td>\n",
       "    </tr>\n",
       "    <tr>\n",
       "      <th>13</th>\n",
       "      <td>268755</td>\n",
       "      <td>55000</td>\n",
       "      <td>120000</td>\n",
       "      <td>35000</td>\n",
       "    </tr>\n",
       "    <tr>\n",
       "      <th>14</th>\n",
       "      <td>273274</td>\n",
       "      <td>150000</td>\n",
       "      <td>120000</td>\n",
       "      <td>70000</td>\n",
       "    </tr>\n",
       "  </tbody>\n",
       "</table>\n",
       "</div>"
      ],
      "text/plain": [
       "    account     Jan     Feb     Mar\n",
       "0    211829   10000   62000   35000\n",
       "1    320563   95000   45000   35000\n",
       "2    648336   91000  120000   35000\n",
       "3    109996   45000  120000   10000\n",
       "4    121213  162000  120000   35000\n",
       "5    132971  150000  120000   35000\n",
       "6    145068   62000  120000   70000\n",
       "7    205217  145000   95000   35000\n",
       "8    209744   70000   95000   35000\n",
       "9    212303   70000  120000   35000\n",
       "10   214098   45000  120000   55000\n",
       "11   231907  150000   10000  162000\n",
       "12   242368  162000  120000   35000\n",
       "13   268755   55000  120000   35000\n",
       "14   273274  150000  120000   70000"
      ]
     },
     "execution_count": 35,
     "metadata": {},
     "output_type": "execute_result"
    }
   ],
   "source": [
    "frame_ventes"
   ]
  },
  {
   "cell_type": "code",
   "execution_count": 36,
   "metadata": {
    "collapsed": false
   },
   "outputs": [
    {
     "name": "stderr",
     "output_type": "stream",
     "text": [
      "C:\\ProgramData\\Anaconda3\\lib\\site-packages\\IPython\\core\\interactiveshell.py:2717: DtypeWarning: Columns (43,87) have mixed types. Specify dtype option on import or set low_memory=False.\n",
      "  interactivity=interactivity, compiler=compiler, result=result)\n"
     ]
    }
   ],
   "source": [
    "frame_airbnb=pd.read_csv(\"airbnb.csv\")"
   ]
  },
  {
   "cell_type": "code",
   "execution_count": 37,
   "metadata": {
    "collapsed": false
   },
   "outputs": [
    {
     "data": {
      "text/plain": [
       "(56535, 95)"
      ]
     },
     "execution_count": 37,
     "metadata": {},
     "output_type": "execute_result"
    }
   ],
   "source": [
    "frame_airbnb.shape"
   ]
  },
  {
   "cell_type": "code",
   "execution_count": 38,
   "metadata": {
    "collapsed": false,
    "scrolled": false
   },
   "outputs": [
    {
     "data": {
      "text/plain": [
       "id                                                                            3508970\n",
       "listing_url                                      https://www.airbnb.com/rooms/3508970\n",
       "scrape_id                                                              20170404145355\n",
       "last_scraped                                                               2017-04-06\n",
       "name                                               Cosy Aptmt Bastille - Gare de Lyon\n",
       "summary                             Cosy petit appartement de 60m2 situé aux pieds...\n",
       "space                                                                             NaN\n",
       "description                         Cosy petit appartement de 60m2 situé aux pieds...\n",
       "experiences_offered                                                              none\n",
       "neighborhood_overview               Marché d'Aligre, Coulée verte, Bastille, Squar...\n",
       "notes                                                                             NaN\n",
       "transit                             Métros à proximité :  . Ledru Rollin ligne 8 ....\n",
       "access                              Petite précision : 5ème étage sans ascenseur m...\n",
       "interaction                                                                       NaN\n",
       "house_rules                                                                       NaN\n",
       "thumbnail_url                                                                     NaN\n",
       "medium_url                                                                        NaN\n",
       "picture_url                         https://a0.muscache.com/im/pictures/f6104c5d-2...\n",
       "xl_picture_url                                                                    NaN\n",
       "host_id                                                                      17667828\n",
       "host_url                                   https://www.airbnb.com/users/show/17667828\n",
       "host_name                                                                  Emmanuelle\n",
       "host_since                                                                 2014-07-05\n",
       "host_location                                                                      FR\n",
       "host_about                             Etudiante, voyageuse, militante, passionnée...\n",
       "host_response_time                                                       within a day\n",
       "host_response_rate                                                                70%\n",
       "host_acceptance_rate                                                              NaN\n",
       "host_is_superhost                                                                   f\n",
       "host_thumbnail_url                  https://a0.muscache.com/im/users/17667828/prof...\n",
       "                                                          ...                        \n",
       "guests_included                                                                     4\n",
       "extra_people                                                                   $15.00\n",
       "minimum_nights                                                                      2\n",
       "maximum_nights                                                                   1125\n",
       "calendar_updated                                                                today\n",
       "has_availability                                                                  NaN\n",
       "availability_30                                                                     2\n",
       "availability_60                                                                     9\n",
       "availability_90                                                                    11\n",
       "availability_365                                                                  282\n",
       "calendar_last_scraped                                                      2017-04-06\n",
       "number_of_reviews                                                                  10\n",
       "first_review                                                               2015-07-01\n",
       "last_review                                                                2017-03-19\n",
       "review_scores_rating                                                               84\n",
       "review_scores_accuracy                                                              9\n",
       "review_scores_cleanliness                                                           9\n",
       "review_scores_checkin                                                               9\n",
       "review_scores_communication                                                         9\n",
       "review_scores_location                                                             10\n",
       "review_scores_value                                                                 9\n",
       "requires_license                                                                    f\n",
       "license                                                                           NaN\n",
       "jurisdiction_names                                                              Paris\n",
       "instant_bookable                                                                    f\n",
       "cancellation_policy                                                          moderate\n",
       "require_guest_profile_picture                                                       f\n",
       "require_guest_phone_verification                                                    f\n",
       "calculated_host_listings_count                                                      1\n",
       "reviews_per_month                                                                0.46\n",
       "Name: 0, Length: 95, dtype: object"
      ]
     },
     "execution_count": 38,
     "metadata": {},
     "output_type": "execute_result"
    }
   ],
   "source": [
    "frame_airbnb.loc[0]"
   ]
  },
  {
   "cell_type": "markdown",
   "metadata": {},
   "source": [
    "### Import fichier Excel"
   ]
  },
  {
   "cell_type": "code",
   "execution_count": 39,
   "metadata": {
    "collapsed": true
   },
   "outputs": [],
   "source": [
    "# méthode 1\n",
    "frame_credit2=pd.read_excel(\"credit2.xlsx\")"
   ]
  },
  {
   "cell_type": "code",
   "execution_count": 40,
   "metadata": {
    "collapsed": false
   },
   "outputs": [],
   "source": [
    "# méthode 2\n",
    "credit2_excel=pd.ExcelFile(\"credit2.xlsx\")"
   ]
  },
  {
   "cell_type": "code",
   "execution_count": 41,
   "metadata": {
    "collapsed": false
   },
   "outputs": [
    {
     "data": {
      "text/plain": [
       "['Sheet1']"
      ]
     },
     "execution_count": 41,
     "metadata": {},
     "output_type": "execute_result"
    }
   ],
   "source": [
    "credit2_excel.sheet_names"
   ]
  },
  {
   "cell_type": "code",
   "execution_count": 42,
   "metadata": {
    "collapsed": true
   },
   "outputs": [],
   "source": [
    "frame_credit2bis=credit2_excel.parse(credit2_excel.sheet_names[0])"
   ]
  },
  {
   "cell_type": "markdown",
   "metadata": {},
   "source": [
    "Récupérer des données d'une base SQL"
   ]
  },
  {
   "cell_type": "code",
   "execution_count": 43,
   "metadata": {
    "collapsed": true
   },
   "outputs": [],
   "source": [
    "from sqlalchemy import create_engine"
   ]
  },
  {
   "cell_type": "code",
   "execution_count": 44,
   "metadata": {
    "collapsed": false
   },
   "outputs": [],
   "source": [
    "engine=create_engine(\"sqlite:///salaries.sqlite\")"
   ]
  },
  {
   "cell_type": "code",
   "execution_count": 45,
   "metadata": {
    "collapsed": false
   },
   "outputs": [
    {
     "data": {
      "text/plain": [
       "['Salaries']"
      ]
     },
     "execution_count": 45,
     "metadata": {},
     "output_type": "execute_result"
    }
   ],
   "source": [
    "engine.table_names()"
   ]
  },
  {
   "cell_type": "code",
   "execution_count": 46,
   "metadata": {
    "collapsed": true
   },
   "outputs": [],
   "source": [
    "frame_salaries=pd.read_sql_query(\"SELECT * from Salaries\",con=engine)"
   ]
  },
  {
   "cell_type": "code",
   "execution_count": 47,
   "metadata": {
    "collapsed": false
   },
   "outputs": [
    {
     "data": {
      "text/html": [
       "<div>\n",
       "<style>\n",
       "    .dataframe thead tr:only-child th {\n",
       "        text-align: right;\n",
       "    }\n",
       "\n",
       "    .dataframe thead th {\n",
       "        text-align: left;\n",
       "    }\n",
       "\n",
       "    .dataframe tbody tr th {\n",
       "        vertical-align: top;\n",
       "    }\n",
       "</style>\n",
       "<table border=\"1\" class=\"dataframe\">\n",
       "  <thead>\n",
       "    <tr style=\"text-align: right;\">\n",
       "      <th></th>\n",
       "      <th>Id</th>\n",
       "      <th>EmployeeName</th>\n",
       "      <th>JobTitle</th>\n",
       "      <th>BasePay</th>\n",
       "      <th>OvertimePay</th>\n",
       "      <th>OtherPay</th>\n",
       "      <th>Benefits</th>\n",
       "      <th>TotalPay</th>\n",
       "      <th>TotalPayBenefits</th>\n",
       "      <th>Year</th>\n",
       "      <th>Notes</th>\n",
       "      <th>Agency</th>\n",
       "      <th>Status</th>\n",
       "    </tr>\n",
       "  </thead>\n",
       "  <tbody>\n",
       "    <tr>\n",
       "      <th>0</th>\n",
       "      <td>1</td>\n",
       "      <td>NATHANIEL FORD</td>\n",
       "      <td>GENERAL MANAGER-METROPOLITAN TRANSIT AUTHORITY</td>\n",
       "      <td>167411</td>\n",
       "      <td>0</td>\n",
       "      <td>400184</td>\n",
       "      <td></td>\n",
       "      <td>567595.43</td>\n",
       "      <td>567595.43</td>\n",
       "      <td>2011</td>\n",
       "      <td></td>\n",
       "      <td>San Francisco</td>\n",
       "      <td></td>\n",
       "    </tr>\n",
       "    <tr>\n",
       "      <th>1</th>\n",
       "      <td>2</td>\n",
       "      <td>GARY JIMENEZ</td>\n",
       "      <td>CAPTAIN III (POLICE DEPARTMENT)</td>\n",
       "      <td>155966</td>\n",
       "      <td>245132</td>\n",
       "      <td>137811</td>\n",
       "      <td></td>\n",
       "      <td>538909.28</td>\n",
       "      <td>538909.28</td>\n",
       "      <td>2011</td>\n",
       "      <td></td>\n",
       "      <td>San Francisco</td>\n",
       "      <td></td>\n",
       "    </tr>\n",
       "    <tr>\n",
       "      <th>2</th>\n",
       "      <td>3</td>\n",
       "      <td>ALBERT PARDINI</td>\n",
       "      <td>CAPTAIN III (POLICE DEPARTMENT)</td>\n",
       "      <td>212739</td>\n",
       "      <td>106088</td>\n",
       "      <td>16452.6</td>\n",
       "      <td></td>\n",
       "      <td>335279.91</td>\n",
       "      <td>335279.91</td>\n",
       "      <td>2011</td>\n",
       "      <td></td>\n",
       "      <td>San Francisco</td>\n",
       "      <td></td>\n",
       "    </tr>\n",
       "    <tr>\n",
       "      <th>3</th>\n",
       "      <td>4</td>\n",
       "      <td>CHRISTOPHER CHONG</td>\n",
       "      <td>WIRE ROPE CABLE MAINTENANCE MECHANIC</td>\n",
       "      <td>77916</td>\n",
       "      <td>56120.7</td>\n",
       "      <td>198307</td>\n",
       "      <td></td>\n",
       "      <td>332343.61</td>\n",
       "      <td>332343.61</td>\n",
       "      <td>2011</td>\n",
       "      <td></td>\n",
       "      <td>San Francisco</td>\n",
       "      <td></td>\n",
       "    </tr>\n",
       "    <tr>\n",
       "      <th>4</th>\n",
       "      <td>5</td>\n",
       "      <td>PATRICK GARDNER</td>\n",
       "      <td>DEPUTY CHIEF OF DEPARTMENT,(FIRE DEPARTMENT)</td>\n",
       "      <td>134402</td>\n",
       "      <td>9737</td>\n",
       "      <td>182235</td>\n",
       "      <td></td>\n",
       "      <td>326373.19</td>\n",
       "      <td>326373.19</td>\n",
       "      <td>2011</td>\n",
       "      <td></td>\n",
       "      <td>San Francisco</td>\n",
       "      <td></td>\n",
       "    </tr>\n",
       "  </tbody>\n",
       "</table>\n",
       "</div>"
      ],
      "text/plain": [
       "   Id       EmployeeName                                        JobTitle  \\\n",
       "0   1     NATHANIEL FORD  GENERAL MANAGER-METROPOLITAN TRANSIT AUTHORITY   \n",
       "1   2       GARY JIMENEZ                 CAPTAIN III (POLICE DEPARTMENT)   \n",
       "2   3     ALBERT PARDINI                 CAPTAIN III (POLICE DEPARTMENT)   \n",
       "3   4  CHRISTOPHER CHONG            WIRE ROPE CABLE MAINTENANCE MECHANIC   \n",
       "4   5    PATRICK GARDNER    DEPUTY CHIEF OF DEPARTMENT,(FIRE DEPARTMENT)   \n",
       "\n",
       "  BasePay OvertimePay OtherPay Benefits   TotalPay  TotalPayBenefits  Year  \\\n",
       "0  167411           0   400184           567595.43         567595.43  2011   \n",
       "1  155966      245132   137811           538909.28         538909.28  2011   \n",
       "2  212739      106088  16452.6           335279.91         335279.91  2011   \n",
       "3   77916     56120.7   198307           332343.61         332343.61  2011   \n",
       "4  134402        9737   182235           326373.19         326373.19  2011   \n",
       "\n",
       "  Notes         Agency Status  \n",
       "0        San Francisco         \n",
       "1        San Francisco         \n",
       "2        San Francisco         \n",
       "3        San Francisco         \n",
       "4        San Francisco         "
      ]
     },
     "execution_count": 47,
     "metadata": {},
     "output_type": "execute_result"
    }
   ],
   "source": [
    "frame_salaries.head()"
   ]
  },
  {
   "cell_type": "code",
   "execution_count": 48,
   "metadata": {
    "collapsed": false,
    "scrolled": true
   },
   "outputs": [
    {
     "data": {
      "text/plain": [
       "74768.321971703"
      ]
     },
     "execution_count": 48,
     "metadata": {},
     "output_type": "execute_result"
    }
   ],
   "source": [
    "frame_salaries[\"TotalPay\"].mean()"
   ]
  },
  {
   "cell_type": "code",
   "execution_count": 49,
   "metadata": {
    "collapsed": false
   },
   "outputs": [
    {
     "data": {
      "text/plain": [
       "Transit Operator                                      7036\n",
       "Special Nurse                                         4389\n",
       "Registered Nurse                                      3736\n",
       "Public Svc Aide-Public Works                          2518\n",
       "Police Officer 3                                      2421\n",
       "Custodian                                             2418\n",
       "TRANSIT OPERATOR                                      2388\n",
       "Firefighter                                           2359\n",
       "Recreation Leader                                     1971\n",
       "Patient Care Assistant                                1945\n",
       "Deputy Sheriff                                        1933\n",
       "Police Officer                                        1476\n",
       "SPECIAL NURSE                                         1402\n",
       "Public Service Trainee                                1328\n",
       "REGISTERED NURSE                                      1219\n",
       "Police Officer 2                                      1141\n",
       "Attorney (Civil/Criminal)                             1126\n",
       "Porter                                                1095\n",
       "Sergeant 3                                            1047\n",
       "General Laborer                                       1033\n",
       "EMT/Paramedic/Firefighter                              918\n",
       "Gardener                                               894\n",
       "Parking Control Officer                                868\n",
       "Senior Clerk                                           840\n",
       "Library Page                                           799\n",
       "CUSTODIAN                                              796\n",
       "FIREFIGHTER                                            794\n",
       "POLICE OFFICER III                                     779\n",
       "Clerk                                                  764\n",
       "Eligibility Worker                                     760\n",
       "                                                      ... \n",
       "Civil Case Settlmnt Specialist                           1\n",
       "AREA SUPERVISOR, PARKS, SQUARES AND FACILITIES           1\n",
       "COURT INTERPRETER SUPERVISOR                             1\n",
       "SENIOR LIGHT RAIL VEHICLE EQUIPMENT ENGINEER             1\n",
       "COURT ADMINISTRATIVE SECRETARY                           1\n",
       "Senior Maintenance Controller                            1\n",
       "Asst Chf Prob Ofc, Juv Prob                              1\n",
       "Court Supervisor I                                       1\n",
       "DEPUTY SEALER OF WEIGHTS AND MEASURES                    1\n",
       "IS Technician Assistant                                  1\n",
       "ASSISTANT DIRECTOR OF CLINICAL SERVICES I                1\n",
       "TRAFFIC SIGNAL OPERATOR                                  1\n",
       "SENIOR BOOK REPAIRER                                     1\n",
       "LABORATORY HELPER                                        1\n",
       "Undersheriff (SFERS)                                     1\n",
       "MAYORAL STAFF V                                          1\n",
       "AIRPORT ASSISTANT DEPUTY DIRECTOR, BUSINESS ADMINI       1\n",
       "MARKET RESEARCH SPECIALISTS, PORT                        1\n",
       "MENTAL HEALTH HEARING OFFICER                            1\n",
       "CHIEF OF DEPARTMENT, (FIRE DEPARTMENT)                   1\n",
       "ASSISTANT DIRECTOR, JUVENILE HALL                        1\n",
       "MAYOR'S PROGRAM MANAGER                                  1\n",
       "SUPERVISING PARTS STOREKEEPER                            1\n",
       "ASSISTANT SUPERINTENDENT RECREATION                      1\n",
       "ORTHOPEDIC TECHNICIAN II                                 1\n",
       "CARPENTER SUPERVISOR II                                  1\n",
       "CHIEF NURSERY SPECIALIST                                 1\n",
       "SENIOR TRANSIT TRAFFIC CHECKER                           1\n",
       "FIELD SERVICES ASSISTANT SUPERVISOR                      1\n",
       "ORNAMENTAL IRON WORKER SUPERVISOR I                      1\n",
       "Name: JobTitle, Length: 2159, dtype: int64"
      ]
     },
     "execution_count": 49,
     "metadata": {},
     "output_type": "execute_result"
    }
   ],
   "source": [
    "frame_salaries[\"JobTitle\"].value_counts()"
   ]
  },
  {
   "cell_type": "markdown",
   "metadata": {},
   "source": [
    "Joindre les deux dataframes de credit en utilisant l’id.\n"
   ]
  },
  {
   "cell_type": "code",
   "execution_count": 50,
   "metadata": {
    "collapsed": true
   },
   "outputs": [],
   "source": [
    "frame_credit1=pd.read_table(\"credit1.txt\")"
   ]
  },
  {
   "cell_type": "code",
   "execution_count": 51,
   "metadata": {
    "collapsed": false
   },
   "outputs": [],
   "source": [
    "frame_global=pd.merge(frame_credit1,frame_credit2,on=\"Customer_ID\")"
   ]
  },
  {
   "cell_type": "code",
   "execution_count": 52,
   "metadata": {
    "collapsed": false
   },
   "outputs": [
    {
     "name": "stdout",
     "output_type": "stream",
     "text": [
      "<class 'pandas.core.frame.DataFrame'>\n",
      "Int64Index: 2000 entries, 0 to 1999\n",
      "Data columns (total 31 columns):\n",
      "Months_as_a_Customer               2000 non-null int64\n",
      "Number_of_Products                 2000 non-null int64\n",
      "RFM_Score                          2000 non-null int64\n",
      "Average_Balance_Feed_Index         2000 non-null int64\n",
      "Number_of_Transactions             2000 non-null int64\n",
      "Personal_Debt_to_Equity_Ratio      2000 non-null int64\n",
      "Months_Current_Account             2000 non-null int64\n",
      "Number_of_Loan_Accounts            2000 non-null int64\n",
      "Customer_ID                        2000 non-null int64\n",
      "Has_Bad_Payment_Record             2000 non-null int64\n",
      "Members_Within_Household           2000 non-null int64\n",
      "Number_of_Call_Center_Contacts     2000 non-null int64\n",
      "Weeks_Since_Last_Offer             2000 non-null int64\n",
      "Accepted_Personal_Loan             2000 non-null object\n",
      "Accepted_Retention                 2000 non-null object\n",
      "Accepted_Home_Equity_Loan          2000 non-null object\n",
      "Accepted_Credit_Card               2000 non-null object\n",
      "Annual_value                       2000 non-null int64\n",
      "Interested_in_Personal_Loan        2000 non-null object\n",
      "Interested_in_Retention            2000 non-null object\n",
      "Interested_in_Home_Equity_Loan     2000 non-null object\n",
      "Interested_in_Credit_Card          2000 non-null object\n",
      "Age                                2000 non-null int64\n",
      "Gender                             2000 non-null object\n",
      "Marital_Status                     2000 non-null object\n",
      "Age_Youngest_Child                 2000 non-null int64\n",
      "Number_of_Workers_in_Household     2000 non-null int64\n",
      "Percentage_White_Collar_Workers    2000 non-null int64\n",
      "Household_Debt_to_Equity_Ratio     2000 non-null int64\n",
      "Income                             2000 non-null int64\n",
      "Homeowner                          2000 non-null object\n",
      "dtypes: int64(20), object(11)\n",
      "memory usage: 500.0+ KB\n"
     ]
    }
   ],
   "source": [
    "frame_global.info()"
   ]
  },
  {
   "cell_type": "markdown",
   "metadata": {},
   "source": [
    "Discrétisation avec pandas"
   ]
  },
  {
   "cell_type": "code",
   "execution_count": 53,
   "metadata": {
    "collapsed": true
   },
   "outputs": [],
   "source": [
    "frame_salaries[\"pay_disc\"]=pd.cut(frame_salaries[\"TotalPay\"],5)"
   ]
  },
  {
   "cell_type": "code",
   "execution_count": 54,
   "metadata": {
    "collapsed": false
   },
   "outputs": [
    {
     "data": {
      "text/plain": [
       "(-1186.344, 113024.582]     116422\n",
       "(113024.582, 226667.294]     31558\n",
       "(226667.294, 340310.006]       666\n",
       "(340310.006, 453952.718]         5\n",
       "(453952.718, 567595.43]          3\n",
       "Name: pay_disc, dtype: int64"
      ]
     },
     "execution_count": 54,
     "metadata": {},
     "output_type": "execute_result"
    }
   ],
   "source": [
    "frame_salaries[\"pay_disc\"].value_counts()"
   ]
  },
  {
   "cell_type": "code",
   "execution_count": 55,
   "metadata": {
    "collapsed": false
   },
   "outputs": [],
   "source": [
    "frame_salaries[\"pay_disc\"]=pd.cut(frame_salaries[\"TotalPay\"],[frame_salaries[\"TotalPay\"].min()\n",
    "                                                              ,10000,50000,\n",
    "                                                             frame_salaries[\"TotalPay\"].max()])"
   ]
  },
  {
   "cell_type": "code",
   "execution_count": 56,
   "metadata": {
    "collapsed": false
   },
   "outputs": [
    {
     "data": {
      "text/plain": [
       "(50000.0, 567595.43]    102762\n",
       "(10000.0, 50000.0]       27254\n",
       "(-618.13, 10000.0]       18637\n",
       "Name: pay_disc, dtype: int64"
      ]
     },
     "execution_count": 56,
     "metadata": {},
     "output_type": "execute_result"
    }
   ],
   "source": [
    "frame_salaries[\"pay_disc\"].value_counts()"
   ]
  },
  {
   "cell_type": "code",
   "execution_count": 57,
   "metadata": {
    "collapsed": true
   },
   "outputs": [],
   "source": [
    "frame_salaries[\"pay_disc\"]=pd.qcut(frame_salaries[\"TotalPay\"],5)"
   ]
  },
  {
   "cell_type": "code",
   "execution_count": 58,
   "metadata": {
    "collapsed": false
   },
   "outputs": [
    {
     "data": {
      "text/plain": [
       "(116203.934, 567595.43]    29731\n",
       "(82593.838, 116203.934]    29731\n",
       "(22559.132, 60703.398]     29731\n",
       "(-618.131, 22559.132]      29731\n",
       "(60703.398, 82593.838]     29730\n",
       "Name: pay_disc, dtype: int64"
      ]
     },
     "execution_count": 58,
     "metadata": {},
     "output_type": "execute_result"
    }
   ],
   "source": [
    "frame_salaries[\"pay_disc\"].value_counts()"
   ]
  },
  {
   "cell_type": "code",
   "execution_count": 59,
   "metadata": {
    "collapsed": false
   },
   "outputs": [
    {
     "data": {
      "text/plain": [
       "<matplotlib.legend.Legend at 0x163734723c8>"
      ]
     },
     "execution_count": 59,
     "metadata": {},
     "output_type": "execute_result"
    },
    {
     "data": {
      "image/png": "[encoded data removed]",
      "text/plain": [
       "<matplotlib.figure.Figure at 0x1630beb0668>"
      ]
     },
     "metadata": {},
     "output_type": "display_data"
    }
   ],
   "source": [
    "plt.hist(frame_salaries[\"TotalPay\"],50,alpha=0.5,label=\"Total Pay\",color=\"red\")\n",
    "plt.hist(frame_salaries[\"TotalPayBenefits\"],50,alpha=0.5, label=\"Benefits\")\n",
    "plt.title(\"Total Pay + benefits\")\n",
    "plt.legend()"
   ]
  },
  {
   "cell_type": "code",
   "execution_count": 60,
   "metadata": {
    "collapsed": true
   },
   "outputs": [],
   "source": [
    "salaries_group=frame_salaries.groupby(\"JobTitle\")"
   ]
  },
  {
   "cell_type": "code",
   "execution_count": 61,
   "metadata": {
    "collapsed": false
   },
   "outputs": [],
   "source": [
    "moy_salaries=salaries_group[\"TotalPay\"].agg([\"mean\",\"std\"])"
   ]
  },
  {
   "cell_type": "code",
   "execution_count": 62,
   "metadata": {
    "collapsed": false,
    "scrolled": false
   },
   "outputs": [
    {
     "data": {
      "text/html": [
       "<div>\n",
       "<style>\n",
       "    .dataframe thead tr:only-child th {\n",
       "        text-align: right;\n",
       "    }\n",
       "\n",
       "    .dataframe thead th {\n",
       "        text-align: left;\n",
       "    }\n",
       "\n",
       "    .dataframe tbody tr th {\n",
       "        vertical-align: top;\n",
       "    }\n",
       "</style>\n",
       "<table border=\"1\" class=\"dataframe\">\n",
       "  <thead>\n",
       "    <tr style=\"text-align: right;\">\n",
       "      <th></th>\n",
       "      <th>mean</th>\n",
       "      <th>std</th>\n",
       "    </tr>\n",
       "    <tr>\n",
       "      <th>JobTitle</th>\n",
       "      <th></th>\n",
       "      <th></th>\n",
       "    </tr>\n",
       "  </thead>\n",
       "  <tbody>\n",
       "    <tr>\n",
       "      <th>GENERAL MANAGER-METROPOLITAN TRANSIT AUTHORITY</th>\n",
       "      <td>399211.275000</td>\n",
       "      <td>238131.155690</td>\n",
       "    </tr>\n",
       "    <tr>\n",
       "      <th>Chief Investment Officer</th>\n",
       "      <td>339653.700000</td>\n",
       "      <td>NaN</td>\n",
       "    </tr>\n",
       "    <tr>\n",
       "      <th>Chief of Police</th>\n",
       "      <td>329183.646667</td>\n",
       "      <td>9118.772821</td>\n",
       "    </tr>\n",
       "    <tr>\n",
       "      <th>Chief, Fire Department</th>\n",
       "      <td>325971.683333</td>\n",
       "      <td>11083.523432</td>\n",
       "    </tr>\n",
       "    <tr>\n",
       "      <th>DEPUTY DIRECTOR OF INVESTMENTS</th>\n",
       "      <td>307899.460000</td>\n",
       "      <td>NaN</td>\n",
       "    </tr>\n",
       "    <tr>\n",
       "      <th>CHIEF OF DEPARTMENT, (FIRE DEPARTMENT)</th>\n",
       "      <td>302377.730000</td>\n",
       "      <td>NaN</td>\n",
       "    </tr>\n",
       "    <tr>\n",
       "      <th>Gen Mgr, Public Trnsp Dept</th>\n",
       "      <td>297769.413333</td>\n",
       "      <td>6528.512299</td>\n",
       "    </tr>\n",
       "    <tr>\n",
       "      <th>Asst Chf of Dept (Fire Dept)</th>\n",
       "      <td>281763.483889</td>\n",
       "      <td>30838.234104</td>\n",
       "    </tr>\n",
       "    <tr>\n",
       "      <th>DEPUTY CHIEF OF DEPARTMENT,(FIRE DEPARTMENT)</th>\n",
       "      <td>279359.560000</td>\n",
       "      <td>41086.598530</td>\n",
       "    </tr>\n",
       "    <tr>\n",
       "      <th>Dep Dir for Investments, Ret</th>\n",
       "      <td>278592.545000</td>\n",
       "      <td>52296.860932</td>\n",
       "    </tr>\n",
       "    <tr>\n",
       "      <th>EXECUTIVE CONTRACT EMPLOYEE</th>\n",
       "      <td>277438.840000</td>\n",
       "      <td>24241.289231</td>\n",
       "    </tr>\n",
       "    <tr>\n",
       "      <th>Mayor</th>\n",
       "      <td>275852.530000</td>\n",
       "      <td>13375.142036</td>\n",
       "    </tr>\n",
       "    <tr>\n",
       "      <th>Adm, SFGH Medical Center</th>\n",
       "      <td>270047.446667</td>\n",
       "      <td>6305.900656</td>\n",
       "    </tr>\n",
       "    <tr>\n",
       "      <th>Deputy Chief 3</th>\n",
       "      <td>268256.512857</td>\n",
       "      <td>58470.990414</td>\n",
       "    </tr>\n",
       "    <tr>\n",
       "      <th>CHIEF OF POLICE</th>\n",
       "      <td>267992.590000</td>\n",
       "      <td>NaN</td>\n",
       "    </tr>\n",
       "    <tr>\n",
       "      <th>Assistant Deputy Chief 2</th>\n",
       "      <td>267140.253636</td>\n",
       "      <td>40309.303242</td>\n",
       "    </tr>\n",
       "    <tr>\n",
       "      <th>Controller</th>\n",
       "      <td>264750.753333</td>\n",
       "      <td>7958.728470</td>\n",
       "    </tr>\n",
       "    <tr>\n",
       "      <th>Dept Head V</th>\n",
       "      <td>264744.692778</td>\n",
       "      <td>53547.998662</td>\n",
       "    </tr>\n",
       "    <tr>\n",
       "      <th>Dep Chf of Dept (Fire Dept)</th>\n",
       "      <td>261406.135714</td>\n",
       "      <td>68026.587537</td>\n",
       "    </tr>\n",
       "    <tr>\n",
       "      <th>ADMINISTRATOR, SFGH MEDICAL CENTER</th>\n",
       "      <td>257124.440000</td>\n",
       "      <td>NaN</td>\n",
       "    </tr>\n",
       "    <tr>\n",
       "      <th>Administrator, DPH</th>\n",
       "      <td>256750.460000</td>\n",
       "      <td>36584.997752</td>\n",
       "    </tr>\n",
       "    <tr>\n",
       "      <th>Battalion Chief, Fire Suppress</th>\n",
       "      <td>252546.943231</td>\n",
       "      <td>48849.524438</td>\n",
       "    </tr>\n",
       "    <tr>\n",
       "      <th>DEPUTY CHIEF III (POLICE DEPARTMENT)</th>\n",
       "      <td>250026.488000</td>\n",
       "      <td>11894.729874</td>\n",
       "    </tr>\n",
       "    <tr>\n",
       "      <th>Port Director</th>\n",
       "      <td>249204.216667</td>\n",
       "      <td>6669.980775</td>\n",
       "    </tr>\n",
       "    <tr>\n",
       "      <th>Manager, Dept Public Health</th>\n",
       "      <td>248637.570000</td>\n",
       "      <td>14197.247526</td>\n",
       "    </tr>\n",
       "    <tr>\n",
       "      <th>Executive Contract Employee</th>\n",
       "      <td>246635.778571</td>\n",
       "      <td>73121.413321</td>\n",
       "    </tr>\n",
       "    <tr>\n",
       "      <th>Emergency Medical Svcs Chief</th>\n",
       "      <td>245958.166667</td>\n",
       "      <td>6936.551223</td>\n",
       "    </tr>\n",
       "    <tr>\n",
       "      <th>District Attorney</th>\n",
       "      <td>242742.046667</td>\n",
       "      <td>13537.490948</td>\n",
       "    </tr>\n",
       "    <tr>\n",
       "      <th>DEPARTMENT HEAD V</th>\n",
       "      <td>233834.037143</td>\n",
       "      <td>77558.654945</td>\n",
       "    </tr>\n",
       "    <tr>\n",
       "      <th>PORT DIRECTOR</th>\n",
       "      <td>233357.280000</td>\n",
       "      <td>NaN</td>\n",
       "    </tr>\n",
       "    <tr>\n",
       "      <th>...</th>\n",
       "      <td>...</td>\n",
       "      <td>...</td>\n",
       "    </tr>\n",
       "    <tr>\n",
       "      <th>Special Assistant 8</th>\n",
       "      <td>3656.900000</td>\n",
       "      <td>NaN</td>\n",
       "    </tr>\n",
       "    <tr>\n",
       "      <th>ORTHOPEDIC TECHNICIAN I</th>\n",
       "      <td>3583.400000</td>\n",
       "      <td>NaN</td>\n",
       "    </tr>\n",
       "    <tr>\n",
       "      <th>Testing Technician</th>\n",
       "      <td>3566.283381</td>\n",
       "      <td>4393.543255</td>\n",
       "    </tr>\n",
       "    <tr>\n",
       "      <th>WAREHOUSE WORKER</th>\n",
       "      <td>3369.710000</td>\n",
       "      <td>NaN</td>\n",
       "    </tr>\n",
       "    <tr>\n",
       "      <th>Conversion</th>\n",
       "      <td>3361.440000</td>\n",
       "      <td>NaN</td>\n",
       "    </tr>\n",
       "    <tr>\n",
       "      <th>Assistant Recreation Director</th>\n",
       "      <td>2620.614545</td>\n",
       "      <td>3571.926841</td>\n",
       "    </tr>\n",
       "    <tr>\n",
       "      <th>Public Service Aide-Technical</th>\n",
       "      <td>2552.550000</td>\n",
       "      <td>NaN</td>\n",
       "    </tr>\n",
       "    <tr>\n",
       "      <th>Recreation Director</th>\n",
       "      <td>2536.025429</td>\n",
       "      <td>4260.325678</td>\n",
       "    </tr>\n",
       "    <tr>\n",
       "      <th>ASSISTANT RECREATION SUPERVISOR</th>\n",
       "      <td>2474.410000</td>\n",
       "      <td>NaN</td>\n",
       "    </tr>\n",
       "    <tr>\n",
       "      <th>Commissioner No Benefits</th>\n",
       "      <td>2348.050522</td>\n",
       "      <td>2909.259583</td>\n",
       "    </tr>\n",
       "    <tr>\n",
       "      <th>TESTING TECHNICIAN</th>\n",
       "      <td>2308.294262</td>\n",
       "      <td>3287.775279</td>\n",
       "    </tr>\n",
       "    <tr>\n",
       "      <th>COMMISSIONER</th>\n",
       "      <td>2271.694348</td>\n",
       "      <td>2946.654743</td>\n",
       "    </tr>\n",
       "    <tr>\n",
       "      <th>Barber</th>\n",
       "      <td>2194.534286</td>\n",
       "      <td>1832.867641</td>\n",
       "    </tr>\n",
       "    <tr>\n",
       "      <th>Cashier 3</th>\n",
       "      <td>2074.600000</td>\n",
       "      <td>NaN</td>\n",
       "    </tr>\n",
       "    <tr>\n",
       "      <th>AIRPORT ASSISTANT DEPUTY DIRECTOR, BUSINESS ADMINI</th>\n",
       "      <td>1927.500000</td>\n",
       "      <td>NaN</td>\n",
       "    </tr>\n",
       "    <tr>\n",
       "      <th>Special Examiner</th>\n",
       "      <td>1466.713455</td>\n",
       "      <td>2007.476971</td>\n",
       "    </tr>\n",
       "    <tr>\n",
       "      <th>BdComm Mbr, Grp5,M$100/Mo</th>\n",
       "      <td>1216.390602</td>\n",
       "      <td>603.149844</td>\n",
       "    </tr>\n",
       "    <tr>\n",
       "      <th>SPECIAL EXAMINER</th>\n",
       "      <td>1201.260000</td>\n",
       "      <td>1936.974456</td>\n",
       "    </tr>\n",
       "    <tr>\n",
       "      <th>BOARD/COMMISSION MEMBER, GROUP V</th>\n",
       "      <td>1195.904464</td>\n",
       "      <td>490.370527</td>\n",
       "    </tr>\n",
       "    <tr>\n",
       "      <th>BdComm Mbr, Grp3,M=$50/Mtg</th>\n",
       "      <td>706.698276</td>\n",
       "      <td>313.498969</td>\n",
       "    </tr>\n",
       "    <tr>\n",
       "      <th>SPECIAL ASSISTANT XIV</th>\n",
       "      <td>673.800000</td>\n",
       "      <td>NaN</td>\n",
       "    </tr>\n",
       "    <tr>\n",
       "      <th>BOARD/COMMISSION MEMBER, GROUP III</th>\n",
       "      <td>638.787879</td>\n",
       "      <td>336.960287</td>\n",
       "    </tr>\n",
       "    <tr>\n",
       "      <th>BOARD/COMMISSION MEMBER, GROUP II</th>\n",
       "      <td>296.511628</td>\n",
       "      <td>308.827535</td>\n",
       "    </tr>\n",
       "    <tr>\n",
       "      <th>BdComm Mbr, Grp2,M=$25/Mtg</th>\n",
       "      <td>263.766129</td>\n",
       "      <td>193.115245</td>\n",
       "    </tr>\n",
       "    <tr>\n",
       "      <th>PUBLIC SAFETY COMMUNICATIONS TECHNICIAN</th>\n",
       "      <td>149.510000</td>\n",
       "      <td>NaN</td>\n",
       "    </tr>\n",
       "    <tr>\n",
       "      <th>Commissioner 16.700c, No Pay</th>\n",
       "      <td>25.760000</td>\n",
       "      <td>182.150707</td>\n",
       "    </tr>\n",
       "    <tr>\n",
       "      <th>IS Technician Assistant</th>\n",
       "      <td>0.000000</td>\n",
       "      <td>NaN</td>\n",
       "    </tr>\n",
       "    <tr>\n",
       "      <th>Not provided</th>\n",
       "      <td>0.000000</td>\n",
       "      <td>0.000000</td>\n",
       "    </tr>\n",
       "    <tr>\n",
       "      <th>Public Safety Comm Tech</th>\n",
       "      <td>0.000000</td>\n",
       "      <td>NaN</td>\n",
       "    </tr>\n",
       "    <tr>\n",
       "      <th>Drug Court Coordinator</th>\n",
       "      <td>0.000000</td>\n",
       "      <td>NaN</td>\n",
       "    </tr>\n",
       "  </tbody>\n",
       "</table>\n",
       "<p>2159 rows × 2 columns</p>\n",
       "</div>"
      ],
      "text/plain": [
       "                                                             mean  \\\n",
       "JobTitle                                                            \n",
       "GENERAL MANAGER-METROPOLITAN TRANSIT AUTHORITY      399211.275000   \n",
       "Chief Investment Officer                            339653.700000   \n",
       "Chief of Police                                     329183.646667   \n",
       "Chief, Fire Department                              325971.683333   \n",
       "DEPUTY DIRECTOR OF INVESTMENTS                      307899.460000   \n",
       "CHIEF OF DEPARTMENT, (FIRE DEPARTMENT)              302377.730000   \n",
       "Gen Mgr, Public Trnsp Dept                          297769.413333   \n",
       "Asst Chf of Dept (Fire Dept)                        281763.483889   \n",
       "DEPUTY CHIEF OF DEPARTMENT,(FIRE DEPARTMENT)        279359.560000   \n",
       "Dep Dir for Investments, Ret                        278592.545000   \n",
       "EXECUTIVE CONTRACT EMPLOYEE                         277438.840000   \n",
       "Mayor                                               275852.530000   \n",
       "Adm, SFGH Medical Center                            270047.446667   \n",
       "Deputy Chief 3                                      268256.512857   \n",
       "CHIEF OF POLICE                                     267992.590000   \n",
       "Assistant Deputy Chief 2                            267140.253636   \n",
       "Controller                                          264750.753333   \n",
       "Dept Head V                                         264744.692778   \n",
       "Dep Chf of Dept (Fire Dept)                         261406.135714   \n",
       "ADMINISTRATOR, SFGH MEDICAL CENTER                  257124.440000   \n",
       "Administrator, DPH                                  256750.460000   \n",
       "Battalion Chief, Fire Suppress                      252546.943231   \n",
       "DEPUTY CHIEF III (POLICE DEPARTMENT)                250026.488000   \n",
       "Port Director                                       249204.216667   \n",
       "Manager, Dept Public Health                         248637.570000   \n",
       "Executive Contract Employee                         246635.778571   \n",
       "Emergency Medical Svcs Chief                        245958.166667   \n",
       "District Attorney                                   242742.046667   \n",
       "DEPARTMENT HEAD V                                   233834.037143   \n",
       "PORT DIRECTOR                                       233357.280000   \n",
       "...                                                           ...   \n",
       "Special Assistant 8                                   3656.900000   \n",
       "ORTHOPEDIC TECHNICIAN I                               3583.400000   \n",
       "Testing Technician                                    3566.283381   \n",
       "WAREHOUSE WORKER                                      3369.710000   \n",
       "Conversion                                            3361.440000   \n",
       "Assistant Recreation Director                         2620.614545   \n",
       "Public Service Aide-Technical                         2552.550000   \n",
       "Recreation Director                                   2536.025429   \n",
       "ASSISTANT RECREATION SUPERVISOR                       2474.410000   \n",
       "Commissioner No Benefits                              2348.050522   \n",
       "TESTING TECHNICIAN                                    2308.294262   \n",
       "COMMISSIONER                                          2271.694348   \n",
       "Barber                                                2194.534286   \n",
       "Cashier 3                                             2074.600000   \n",
       "AIRPORT ASSISTANT DEPUTY DIRECTOR, BUSINESS ADMINI    1927.500000   \n",
       "Special Examiner                                      1466.713455   \n",
       "BdComm Mbr, Grp5,M$100/Mo                             1216.390602   \n",
       "SPECIAL EXAMINER                                      1201.260000   \n",
       "BOARD/COMMISSION MEMBER, GROUP V                      1195.904464   \n",
       "BdComm Mbr, Grp3,M=$50/Mtg                             706.698276   \n",
       "SPECIAL ASSISTANT XIV                                  673.800000   \n",
       "BOARD/COMMISSION MEMBER, GROUP III                     638.787879   \n",
       "BOARD/COMMISSION MEMBER, GROUP II                      296.511628   \n",
       "BdComm Mbr, Grp2,M=$25/Mtg                             263.766129   \n",
       "PUBLIC SAFETY COMMUNICATIONS TECHNICIAN                149.510000   \n",
       "Commissioner 16.700c, No Pay                            25.760000   \n",
       "IS Technician Assistant                                  0.000000   \n",
       "Not provided                                             0.000000   \n",
       "Public Safety Comm Tech                                  0.000000   \n",
       "Drug Court Coordinator                                   0.000000   \n",
       "\n",
       "                                                              std  \n",
       "JobTitle                                                           \n",
       "GENERAL MANAGER-METROPOLITAN TRANSIT AUTHORITY      238131.155690  \n",
       "Chief Investment Officer                                      NaN  \n",
       "Chief of Police                                       9118.772821  \n",
       "Chief, Fire Department                               11083.523432  \n",
       "DEPUTY DIRECTOR OF INVESTMENTS                                NaN  \n",
       "CHIEF OF DEPARTMENT, (FIRE DEPARTMENT)                        NaN  \n",
       "Gen Mgr, Public Trnsp Dept                            6528.512299  \n",
       "Asst Chf of Dept (Fire Dept)                         30838.234104  \n",
       "DEPUTY CHIEF OF DEPARTMENT,(FIRE DEPARTMENT)         41086.598530  \n",
       "Dep Dir for Investments, Ret                         52296.860932  \n",
       "EXECUTIVE CONTRACT EMPLOYEE                          24241.289231  \n",
       "Mayor                                                13375.142036  \n",
       "Adm, SFGH Medical Center                              6305.900656  \n",
       "Deputy Chief 3                                       58470.990414  \n",
       "CHIEF OF POLICE                                               NaN  \n",
       "Assistant Deputy Chief 2                             40309.303242  \n",
       "Controller                                            7958.728470  \n",
       "Dept Head V                                          53547.998662  \n",
       "Dep Chf of Dept (Fire Dept)                          68026.587537  \n",
       "ADMINISTRATOR, SFGH MEDICAL CENTER                            NaN  \n",
       "Administrator, DPH                                   36584.997752  \n",
       "Battalion Chief, Fire Suppress                       48849.524438  \n",
       "DEPUTY CHIEF III (POLICE DEPARTMENT)                 11894.729874  \n",
       "Port Director                                         6669.980775  \n",
       "Manager, Dept Public Health                          14197.247526  \n",
       "Executive Contract Employee                          73121.413321  \n",
       "Emergency Medical Svcs Chief                          6936.551223  \n",
       "District Attorney                                    13537.490948  \n",
       "DEPARTMENT HEAD V                                    77558.654945  \n",
       "PORT DIRECTOR                                                 NaN  \n",
       "...                                                           ...  \n",
       "Special Assistant 8                                           NaN  \n",
       "ORTHOPEDIC TECHNICIAN I                                       NaN  \n",
       "Testing Technician                                    4393.543255  \n",
       "WAREHOUSE WORKER                                              NaN  \n",
       "Conversion                                                    NaN  \n",
       "Assistant Recreation Director                         3571.926841  \n",
       "Public Service Aide-Technical                                 NaN  \n",
       "Recreation Director                                   4260.325678  \n",
       "ASSISTANT RECREATION SUPERVISOR                               NaN  \n",
       "Commissioner No Benefits                              2909.259583  \n",
       "TESTING TECHNICIAN                                    3287.775279  \n",
       "COMMISSIONER                                          2946.654743  \n",
       "Barber                                                1832.867641  \n",
       "Cashier 3                                                     NaN  \n",
       "AIRPORT ASSISTANT DEPUTY DIRECTOR, BUSINESS ADMINI            NaN  \n",
       "Special Examiner                                      2007.476971  \n",
       "BdComm Mbr, Grp5,M$100/Mo                              603.149844  \n",
       "SPECIAL EXAMINER                                      1936.974456  \n",
       "BOARD/COMMISSION MEMBER, GROUP V                       490.370527  \n",
       "BdComm Mbr, Grp3,M=$50/Mtg                             313.498969  \n",
       "SPECIAL ASSISTANT XIV                                         NaN  \n",
       "BOARD/COMMISSION MEMBER, GROUP III                     336.960287  \n",
       "BOARD/COMMISSION MEMBER, GROUP II                      308.827535  \n",
       "BdComm Mbr, Grp2,M=$25/Mtg                             193.115245  \n",
       "PUBLIC SAFETY COMMUNICATIONS TECHNICIAN                       NaN  \n",
       "Commissioner 16.700c, No Pay                           182.150707  \n",
       "IS Technician Assistant                                       NaN  \n",
       "Not provided                                             0.000000  \n",
       "Public Safety Comm Tech                                       NaN  \n",
       "Drug Court Coordinator                                        NaN  \n",
       "\n",
       "[2159 rows x 2 columns]"
      ]
     },
     "execution_count": 62,
     "metadata": {},
     "output_type": "execute_result"
    }
   ],
   "source": [
    "moy_salaries.sort_values(\"mean\",ascending=False)"
   ]
  },
  {
   "cell_type": "markdown",
   "metadata": {},
   "source": [
    "# DATAVIZ"
   ]
  },
  {
   "cell_type": "code",
   "execution_count": 63,
   "metadata": {
    "collapsed": false
   },
   "outputs": [
    {
     "data": {
      "text/plain": [
       "<matplotlib.text.Text at 0x163105d8ef0>"
      ]
     },
     "execution_count": 63,
     "metadata": {},
     "output_type": "execute_result"
    },
    {
     "data": {
      "image/png": "[encoded data removed]",
      "text/plain": [
       "<matplotlib.figure.Figure at 0x1630fec3320>"
      ]
     },
     "metadata": {},
     "output_type": "display_data"
    }
   ],
   "source": [
    "plt.plot(np.random.randn(100),np.random.randn(100),\"g+\")\n",
    "plt.title(\"Mon graphique\")\n",
    "plt.xlabel(\"X\")\n",
    "plt.ylabel(\"Y\")\n",
    "#plt.show()"
   ]
  },
  {
   "cell_type": "code",
   "execution_count": 64,
   "metadata": {
    "collapsed": true
   },
   "outputs": [],
   "source": [
    "#on récupère les données iris\n",
    "frame_iris=pd.read_excel(\"iris.xlsx\")"
   ]
  },
  {
   "cell_type": "code",
   "execution_count": 65,
   "metadata": {
    "collapsed": false
   },
   "outputs": [
    {
     "data": {
      "text/html": [
       "<div>\n",
       "<style>\n",
       "    .dataframe thead tr:only-child th {\n",
       "        text-align: right;\n",
       "    }\n",
       "\n",
       "    .dataframe thead th {\n",
       "        text-align: left;\n",
       "    }\n",
       "\n",
       "    .dataframe tbody tr th {\n",
       "        vertical-align: top;\n",
       "    }\n",
       "</style>\n",
       "<table border=\"1\" class=\"dataframe\">\n",
       "  <thead>\n",
       "    <tr style=\"text-align: right;\">\n",
       "      <th></th>\n",
       "      <th>Long. Sepales</th>\n",
       "      <th>Larg. Sepales</th>\n",
       "      <th>Long. Petales</th>\n",
       "      <th>Larg. Petales</th>\n",
       "      <th>Espece</th>\n",
       "    </tr>\n",
       "  </thead>\n",
       "  <tbody>\n",
       "    <tr>\n",
       "      <th>Iris1</th>\n",
       "      <td>50</td>\n",
       "      <td>33</td>\n",
       "      <td>14</td>\n",
       "      <td>2</td>\n",
       "      <td>Setosa</td>\n",
       "    </tr>\n",
       "    <tr>\n",
       "      <th>Iris2</th>\n",
       "      <td>64</td>\n",
       "      <td>28</td>\n",
       "      <td>56</td>\n",
       "      <td>22</td>\n",
       "      <td>Virginica</td>\n",
       "    </tr>\n",
       "    <tr>\n",
       "      <th>Iris3</th>\n",
       "      <td>65</td>\n",
       "      <td>28</td>\n",
       "      <td>46</td>\n",
       "      <td>15</td>\n",
       "      <td>Versicolor</td>\n",
       "    </tr>\n",
       "    <tr>\n",
       "      <th>Iris4</th>\n",
       "      <td>67</td>\n",
       "      <td>31</td>\n",
       "      <td>56</td>\n",
       "      <td>24</td>\n",
       "      <td>Virginica</td>\n",
       "    </tr>\n",
       "    <tr>\n",
       "      <th>Iris5</th>\n",
       "      <td>63</td>\n",
       "      <td>28</td>\n",
       "      <td>51</td>\n",
       "      <td>15</td>\n",
       "      <td>Virginica</td>\n",
       "    </tr>\n",
       "    <tr>\n",
       "      <th>Iris6</th>\n",
       "      <td>46</td>\n",
       "      <td>34</td>\n",
       "      <td>14</td>\n",
       "      <td>3</td>\n",
       "      <td>Setosa</td>\n",
       "    </tr>\n",
       "    <tr>\n",
       "      <th>Iris7</th>\n",
       "      <td>69</td>\n",
       "      <td>31</td>\n",
       "      <td>51</td>\n",
       "      <td>23</td>\n",
       "      <td>Virginica</td>\n",
       "    </tr>\n",
       "    <tr>\n",
       "      <th>Iris8</th>\n",
       "      <td>62</td>\n",
       "      <td>22</td>\n",
       "      <td>45</td>\n",
       "      <td>15</td>\n",
       "      <td>Versicolor</td>\n",
       "    </tr>\n",
       "    <tr>\n",
       "      <th>Iris9</th>\n",
       "      <td>59</td>\n",
       "      <td>32</td>\n",
       "      <td>48</td>\n",
       "      <td>18</td>\n",
       "      <td>Versicolor</td>\n",
       "    </tr>\n",
       "    <tr>\n",
       "      <th>Iris10</th>\n",
       "      <td>46</td>\n",
       "      <td>36</td>\n",
       "      <td>10</td>\n",
       "      <td>2</td>\n",
       "      <td>Setosa</td>\n",
       "    </tr>\n",
       "    <tr>\n",
       "      <th>Iris11</th>\n",
       "      <td>61</td>\n",
       "      <td>30</td>\n",
       "      <td>46</td>\n",
       "      <td>14</td>\n",
       "      <td>Versicolor</td>\n",
       "    </tr>\n",
       "    <tr>\n",
       "      <th>Iris12</th>\n",
       "      <td>60</td>\n",
       "      <td>27</td>\n",
       "      <td>51</td>\n",
       "      <td>16</td>\n",
       "      <td>Versicolor</td>\n",
       "    </tr>\n",
       "    <tr>\n",
       "      <th>Iris13</th>\n",
       "      <td>65</td>\n",
       "      <td>30</td>\n",
       "      <td>52</td>\n",
       "      <td>20</td>\n",
       "      <td>Virginica</td>\n",
       "    </tr>\n",
       "    <tr>\n",
       "      <th>Iris14</th>\n",
       "      <td>56</td>\n",
       "      <td>25</td>\n",
       "      <td>39</td>\n",
       "      <td>11</td>\n",
       "      <td>Versicolor</td>\n",
       "    </tr>\n",
       "    <tr>\n",
       "      <th>Iris15</th>\n",
       "      <td>65</td>\n",
       "      <td>30</td>\n",
       "      <td>55</td>\n",
       "      <td>18</td>\n",
       "      <td>Virginica</td>\n",
       "    </tr>\n",
       "    <tr>\n",
       "      <th>Iris16</th>\n",
       "      <td>58</td>\n",
       "      <td>27</td>\n",
       "      <td>51</td>\n",
       "      <td>19</td>\n",
       "      <td>Virginica</td>\n",
       "    </tr>\n",
       "    <tr>\n",
       "      <th>Iris17</th>\n",
       "      <td>68</td>\n",
       "      <td>32</td>\n",
       "      <td>59</td>\n",
       "      <td>23</td>\n",
       "      <td>Virginica</td>\n",
       "    </tr>\n",
       "    <tr>\n",
       "      <th>Iris18</th>\n",
       "      <td>51</td>\n",
       "      <td>33</td>\n",
       "      <td>17</td>\n",
       "      <td>5</td>\n",
       "      <td>Setosa</td>\n",
       "    </tr>\n",
       "    <tr>\n",
       "      <th>Iris19</th>\n",
       "      <td>57</td>\n",
       "      <td>28</td>\n",
       "      <td>45</td>\n",
       "      <td>13</td>\n",
       "      <td>Versicolor</td>\n",
       "    </tr>\n",
       "    <tr>\n",
       "      <th>Iris20</th>\n",
       "      <td>62</td>\n",
       "      <td>34</td>\n",
       "      <td>54</td>\n",
       "      <td>23</td>\n",
       "      <td>Virginica</td>\n",
       "    </tr>\n",
       "    <tr>\n",
       "      <th>Iris21</th>\n",
       "      <td>77</td>\n",
       "      <td>38</td>\n",
       "      <td>67</td>\n",
       "      <td>22</td>\n",
       "      <td>Virginica</td>\n",
       "    </tr>\n",
       "    <tr>\n",
       "      <th>Iris22</th>\n",
       "      <td>63</td>\n",
       "      <td>33</td>\n",
       "      <td>47</td>\n",
       "      <td>16</td>\n",
       "      <td>Versicolor</td>\n",
       "    </tr>\n",
       "    <tr>\n",
       "      <th>Iris23</th>\n",
       "      <td>67</td>\n",
       "      <td>33</td>\n",
       "      <td>57</td>\n",
       "      <td>25</td>\n",
       "      <td>Virginica</td>\n",
       "    </tr>\n",
       "    <tr>\n",
       "      <th>Iris24</th>\n",
       "      <td>76</td>\n",
       "      <td>30</td>\n",
       "      <td>66</td>\n",
       "      <td>21</td>\n",
       "      <td>Virginica</td>\n",
       "    </tr>\n",
       "    <tr>\n",
       "      <th>Iris25</th>\n",
       "      <td>49</td>\n",
       "      <td>25</td>\n",
       "      <td>45</td>\n",
       "      <td>17</td>\n",
       "      <td>Virginica</td>\n",
       "    </tr>\n",
       "    <tr>\n",
       "      <th>Iris26</th>\n",
       "      <td>55</td>\n",
       "      <td>35</td>\n",
       "      <td>13</td>\n",
       "      <td>2</td>\n",
       "      <td>Setosa</td>\n",
       "    </tr>\n",
       "    <tr>\n",
       "      <th>Iris27</th>\n",
       "      <td>67</td>\n",
       "      <td>30</td>\n",
       "      <td>52</td>\n",
       "      <td>23</td>\n",
       "      <td>Virginica</td>\n",
       "    </tr>\n",
       "    <tr>\n",
       "      <th>Iris28</th>\n",
       "      <td>70</td>\n",
       "      <td>32</td>\n",
       "      <td>47</td>\n",
       "      <td>14</td>\n",
       "      <td>Versicolor</td>\n",
       "    </tr>\n",
       "    <tr>\n",
       "      <th>Iris29</th>\n",
       "      <td>64</td>\n",
       "      <td>32</td>\n",
       "      <td>45</td>\n",
       "      <td>15</td>\n",
       "      <td>Versicolor</td>\n",
       "    </tr>\n",
       "    <tr>\n",
       "      <th>Iris30</th>\n",
       "      <td>61</td>\n",
       "      <td>28</td>\n",
       "      <td>40</td>\n",
       "      <td>13</td>\n",
       "      <td>Versicolor</td>\n",
       "    </tr>\n",
       "    <tr>\n",
       "      <th>...</th>\n",
       "      <td>...</td>\n",
       "      <td>...</td>\n",
       "      <td>...</td>\n",
       "      <td>...</td>\n",
       "      <td>...</td>\n",
       "    </tr>\n",
       "    <tr>\n",
       "      <th>Iris71</th>\n",
       "      <td>57</td>\n",
       "      <td>26</td>\n",
       "      <td>35</td>\n",
       "      <td>10</td>\n",
       "      <td>Versicolor</td>\n",
       "    </tr>\n",
       "    <tr>\n",
       "      <th>Iris72</th>\n",
       "      <td>57</td>\n",
       "      <td>44</td>\n",
       "      <td>15</td>\n",
       "      <td>4</td>\n",
       "      <td>Setosa</td>\n",
       "    </tr>\n",
       "    <tr>\n",
       "      <th>Iris73</th>\n",
       "      <td>50</td>\n",
       "      <td>36</td>\n",
       "      <td>14</td>\n",
       "      <td>2</td>\n",
       "      <td>Setosa</td>\n",
       "    </tr>\n",
       "    <tr>\n",
       "      <th>Iris74</th>\n",
       "      <td>77</td>\n",
       "      <td>30</td>\n",
       "      <td>61</td>\n",
       "      <td>23</td>\n",
       "      <td>Virginica</td>\n",
       "    </tr>\n",
       "    <tr>\n",
       "      <th>Iris75</th>\n",
       "      <td>63</td>\n",
       "      <td>34</td>\n",
       "      <td>56</td>\n",
       "      <td>24</td>\n",
       "      <td>Virginica</td>\n",
       "    </tr>\n",
       "    <tr>\n",
       "      <th>Iris76</th>\n",
       "      <td>58</td>\n",
       "      <td>27</td>\n",
       "      <td>51</td>\n",
       "      <td>19</td>\n",
       "      <td>Virginica</td>\n",
       "    </tr>\n",
       "    <tr>\n",
       "      <th>Iris77</th>\n",
       "      <td>57</td>\n",
       "      <td>29</td>\n",
       "      <td>42</td>\n",
       "      <td>13</td>\n",
       "      <td>Versicolor</td>\n",
       "    </tr>\n",
       "    <tr>\n",
       "      <th>Iris78</th>\n",
       "      <td>72</td>\n",
       "      <td>30</td>\n",
       "      <td>58</td>\n",
       "      <td>16</td>\n",
       "      <td>Virginica</td>\n",
       "    </tr>\n",
       "    <tr>\n",
       "      <th>Iris79</th>\n",
       "      <td>54</td>\n",
       "      <td>34</td>\n",
       "      <td>15</td>\n",
       "      <td>4</td>\n",
       "      <td>Setosa</td>\n",
       "    </tr>\n",
       "    <tr>\n",
       "      <th>Iris80</th>\n",
       "      <td>52</td>\n",
       "      <td>41</td>\n",
       "      <td>15</td>\n",
       "      <td>1</td>\n",
       "      <td>Setosa</td>\n",
       "    </tr>\n",
       "    <tr>\n",
       "      <th>Iris81</th>\n",
       "      <td>71</td>\n",
       "      <td>30</td>\n",
       "      <td>59</td>\n",
       "      <td>21</td>\n",
       "      <td>Virginica</td>\n",
       "    </tr>\n",
       "    <tr>\n",
       "      <th>Iris82</th>\n",
       "      <td>64</td>\n",
       "      <td>31</td>\n",
       "      <td>55</td>\n",
       "      <td>18</td>\n",
       "      <td>Virginica</td>\n",
       "    </tr>\n",
       "    <tr>\n",
       "      <th>Iris83</th>\n",
       "      <td>60</td>\n",
       "      <td>30</td>\n",
       "      <td>48</td>\n",
       "      <td>18</td>\n",
       "      <td>Virginica</td>\n",
       "    </tr>\n",
       "    <tr>\n",
       "      <th>Iris84</th>\n",
       "      <td>63</td>\n",
       "      <td>29</td>\n",
       "      <td>56</td>\n",
       "      <td>18</td>\n",
       "      <td>Virginica</td>\n",
       "    </tr>\n",
       "    <tr>\n",
       "      <th>Iris85</th>\n",
       "      <td>49</td>\n",
       "      <td>24</td>\n",
       "      <td>33</td>\n",
       "      <td>10</td>\n",
       "      <td>Versicolor</td>\n",
       "    </tr>\n",
       "    <tr>\n",
       "      <th>Iris86</th>\n",
       "      <td>56</td>\n",
       "      <td>27</td>\n",
       "      <td>42</td>\n",
       "      <td>13</td>\n",
       "      <td>Versicolor</td>\n",
       "    </tr>\n",
       "    <tr>\n",
       "      <th>Iris87</th>\n",
       "      <td>57</td>\n",
       "      <td>30</td>\n",
       "      <td>42</td>\n",
       "      <td>12</td>\n",
       "      <td>Versicolor</td>\n",
       "    </tr>\n",
       "    <tr>\n",
       "      <th>Iris88</th>\n",
       "      <td>55</td>\n",
       "      <td>42</td>\n",
       "      <td>14</td>\n",
       "      <td>2</td>\n",
       "      <td>Setosa</td>\n",
       "    </tr>\n",
       "    <tr>\n",
       "      <th>Iris89</th>\n",
       "      <td>49</td>\n",
       "      <td>31</td>\n",
       "      <td>15</td>\n",
       "      <td>2</td>\n",
       "      <td>Setosa</td>\n",
       "    </tr>\n",
       "    <tr>\n",
       "      <th>Iris90</th>\n",
       "      <td>77</td>\n",
       "      <td>26</td>\n",
       "      <td>69</td>\n",
       "      <td>23</td>\n",
       "      <td>Virginica</td>\n",
       "    </tr>\n",
       "    <tr>\n",
       "      <th>Iris91</th>\n",
       "      <td>60</td>\n",
       "      <td>22</td>\n",
       "      <td>50</td>\n",
       "      <td>15</td>\n",
       "      <td>Virginica</td>\n",
       "    </tr>\n",
       "    <tr>\n",
       "      <th>Iris92</th>\n",
       "      <td>54</td>\n",
       "      <td>39</td>\n",
       "      <td>17</td>\n",
       "      <td>4</td>\n",
       "      <td>Setosa</td>\n",
       "    </tr>\n",
       "    <tr>\n",
       "      <th>Iris93</th>\n",
       "      <td>66</td>\n",
       "      <td>29</td>\n",
       "      <td>46</td>\n",
       "      <td>13</td>\n",
       "      <td>Versicolor</td>\n",
       "    </tr>\n",
       "    <tr>\n",
       "      <th>Iris94</th>\n",
       "      <td>52</td>\n",
       "      <td>27</td>\n",
       "      <td>39</td>\n",
       "      <td>14</td>\n",
       "      <td>Versicolor</td>\n",
       "    </tr>\n",
       "    <tr>\n",
       "      <th>Iris95</th>\n",
       "      <td>60</td>\n",
       "      <td>34</td>\n",
       "      <td>45</td>\n",
       "      <td>16</td>\n",
       "      <td>Versicolor</td>\n",
       "    </tr>\n",
       "    <tr>\n",
       "      <th>Iris96</th>\n",
       "      <td>50</td>\n",
       "      <td>34</td>\n",
       "      <td>15</td>\n",
       "      <td>2</td>\n",
       "      <td>Setosa</td>\n",
       "    </tr>\n",
       "    <tr>\n",
       "      <th>Iris97</th>\n",
       "      <td>44</td>\n",
       "      <td>29</td>\n",
       "      <td>14</td>\n",
       "      <td>2</td>\n",
       "      <td>Setosa</td>\n",
       "    </tr>\n",
       "    <tr>\n",
       "      <th>Iris98</th>\n",
       "      <td>50</td>\n",
       "      <td>20</td>\n",
       "      <td>35</td>\n",
       "      <td>10</td>\n",
       "      <td>Versicolor</td>\n",
       "    </tr>\n",
       "    <tr>\n",
       "      <th>Iris99</th>\n",
       "      <td>55</td>\n",
       "      <td>24</td>\n",
       "      <td>37</td>\n",
       "      <td>10</td>\n",
       "      <td>Versicolor</td>\n",
       "    </tr>\n",
       "    <tr>\n",
       "      <th>Iris100</th>\n",
       "      <td>58</td>\n",
       "      <td>27</td>\n",
       "      <td>39</td>\n",
       "      <td>12</td>\n",
       "      <td>Versicolor</td>\n",
       "    </tr>\n",
       "  </tbody>\n",
       "</table>\n",
       "<p>100 rows × 5 columns</p>\n",
       "</div>"
      ],
      "text/plain": [
       "         Long. Sepales  Larg. Sepales  Long. Petales  Larg. Petales  \\\n",
       "Iris1               50             33             14              2   \n",
       "Iris2               64             28             56             22   \n",
       "Iris3               65             28             46             15   \n",
       "Iris4               67             31             56             24   \n",
       "Iris5               63             28             51             15   \n",
       "Iris6               46             34             14              3   \n",
       "Iris7               69             31             51             23   \n",
       "Iris8               62             22             45             15   \n",
       "Iris9               59             32             48             18   \n",
       "Iris10              46             36             10              2   \n",
       "Iris11              61             30             46             14   \n",
       "Iris12              60             27             51             16   \n",
       "Iris13              65             30             52             20   \n",
       "Iris14              56             25             39             11   \n",
       "Iris15              65             30             55             18   \n",
       "Iris16              58             27             51             19   \n",
       "Iris17              68             32             59             23   \n",
       "Iris18              51             33             17              5   \n",
       "Iris19              57             28             45             13   \n",
       "Iris20              62             34             54             23   \n",
       "Iris21              77             38             67             22   \n",
       "Iris22              63             33             47             16   \n",
       "Iris23              67             33             57             25   \n",
       "Iris24              76             30             66             21   \n",
       "Iris25              49             25             45             17   \n",
       "Iris26              55             35             13              2   \n",
       "Iris27              67             30             52             23   \n",
       "Iris28              70             32             47             14   \n",
       "Iris29              64             32             45             15   \n",
       "Iris30              61             28             40             13   \n",
       "...                ...            ...            ...            ...   \n",
       "Iris71              57             26             35             10   \n",
       "Iris72              57             44             15              4   \n",
       "Iris73              50             36             14              2   \n",
       "Iris74              77             30             61             23   \n",
       "Iris75              63             34             56             24   \n",
       "Iris76              58             27             51             19   \n",
       "Iris77              57             29             42             13   \n",
       "Iris78              72             30             58             16   \n",
       "Iris79              54             34             15              4   \n",
       "Iris80              52             41             15              1   \n",
       "Iris81              71             30             59             21   \n",
       "Iris82              64             31             55             18   \n",
       "Iris83              60             30             48             18   \n",
       "Iris84              63             29             56             18   \n",
       "Iris85              49             24             33             10   \n",
       "Iris86              56             27             42             13   \n",
       "Iris87              57             30             42             12   \n",
       "Iris88              55             42             14              2   \n",
       "Iris89              49             31             15              2   \n",
       "Iris90              77             26             69             23   \n",
       "Iris91              60             22             50             15   \n",
       "Iris92              54             39             17              4   \n",
       "Iris93              66             29             46             13   \n",
       "Iris94              52             27             39             14   \n",
       "Iris95              60             34             45             16   \n",
       "Iris96              50             34             15              2   \n",
       "Iris97              44             29             14              2   \n",
       "Iris98              50             20             35             10   \n",
       "Iris99              55             24             37             10   \n",
       "Iris100             58             27             39             12   \n",
       "\n",
       "             Espece  \n",
       "Iris1        Setosa  \n",
       "Iris2     Virginica  \n",
       "Iris3    Versicolor  \n",
       "Iris4     Virginica  \n",
       "Iris5     Virginica  \n",
       "Iris6        Setosa  \n",
       "Iris7     Virginica  \n",
       "Iris8    Versicolor  \n",
       "Iris9    Versicolor  \n",
       "Iris10       Setosa  \n",
       "Iris11   Versicolor  \n",
       "Iris12   Versicolor  \n",
       "Iris13    Virginica  \n",
       "Iris14   Versicolor  \n",
       "Iris15    Virginica  \n",
       "Iris16    Virginica  \n",
       "Iris17    Virginica  \n",
       "Iris18       Setosa  \n",
       "Iris19   Versicolor  \n",
       "Iris20    Virginica  \n",
       "Iris21    Virginica  \n",
       "Iris22   Versicolor  \n",
       "Iris23    Virginica  \n",
       "Iris24    Virginica  \n",
       "Iris25    Virginica  \n",
       "Iris26       Setosa  \n",
       "Iris27    Virginica  \n",
       "Iris28   Versicolor  \n",
       "Iris29   Versicolor  \n",
       "Iris30   Versicolor  \n",
       "...             ...  \n",
       "Iris71   Versicolor  \n",
       "Iris72       Setosa  \n",
       "Iris73       Setosa  \n",
       "Iris74    Virginica  \n",
       "Iris75    Virginica  \n",
       "Iris76    Virginica  \n",
       "Iris77   Versicolor  \n",
       "Iris78    Virginica  \n",
       "Iris79       Setosa  \n",
       "Iris80       Setosa  \n",
       "Iris81    Virginica  \n",
       "Iris82    Virginica  \n",
       "Iris83    Virginica  \n",
       "Iris84    Virginica  \n",
       "Iris85   Versicolor  \n",
       "Iris86   Versicolor  \n",
       "Iris87   Versicolor  \n",
       "Iris88       Setosa  \n",
       "Iris89       Setosa  \n",
       "Iris90    Virginica  \n",
       "Iris91    Virginica  \n",
       "Iris92       Setosa  \n",
       "Iris93   Versicolor  \n",
       "Iris94   Versicolor  \n",
       "Iris95   Versicolor  \n",
       "Iris96       Setosa  \n",
       "Iris97       Setosa  \n",
       "Iris98   Versicolor  \n",
       "Iris99   Versicolor  \n",
       "Iris100  Versicolor  \n",
       "\n",
       "[100 rows x 5 columns]"
      ]
     },
     "execution_count": 65,
     "metadata": {},
     "output_type": "execute_result"
    }
   ],
   "source": [
    "frame_iris"
   ]
  },
  {
   "cell_type": "code",
   "execution_count": 66,
   "metadata": {
    "collapsed": false
   },
   "outputs": [
    {
     "data": {
      "text/plain": [
       "{'boxes': [<matplotlib.lines.Line2D at 0x1630d93a400>],\n",
       " 'caps': [<matplotlib.lines.Line2D at 0x1630d954dd8>,\n",
       "  <matplotlib.lines.Line2D at 0x1630d954f98>],\n",
       " 'fliers': [<matplotlib.lines.Line2D at 0x1630d968fd0>],\n",
       " 'means': [],\n",
       " 'medians': [<matplotlib.lines.Line2D at 0x1630d968e48>],\n",
       " 'whiskers': [<matplotlib.lines.Line2D at 0x1630d93ad68>,\n",
       "  <matplotlib.lines.Line2D at 0x1630d93af60>]}"
      ]
     },
     "execution_count": 66,
     "metadata": {},
     "output_type": "execute_result"
    },
    {
     "data": {
      "image/png": "[encoded data removed]",
      "text/plain": [
       "<matplotlib.figure.Figure at 0x16310a6a9e8>"
      ]
     },
     "metadata": {},
     "output_type": "display_data"
    }
   ],
   "source": [
    "#le box plot avec matplotlib\n",
    "plt.boxplot(frame_iris[\"Long. Petales\"],notch=True,vert=False)"
   ]
  },
  {
   "cell_type": "code",
   "execution_count": 67,
   "metadata": {
    "collapsed": true
   },
   "outputs": [],
   "source": [
    "import seaborn as sns"
   ]
  },
  {
   "cell_type": "code",
   "execution_count": 68,
   "metadata": {
    "collapsed": false
   },
   "outputs": [
    {
     "data": {
      "image/png": "[encoded data removed]",
      "text/plain": [
       "<matplotlib.figure.Figure at 0x1630e79f898>"
      ]
     },
     "metadata": {},
     "output_type": "display_data"
    }
   ],
   "source": [
    "#le box plot avec seaborn\n",
    "sns.boxplot(\"Espece\",\"Long. Petales\", data=frame_iris)\n",
    "plt.savefig(\"mon_boxplot\")"
   ]
  },
  {
   "cell_type": "code",
   "execution_count": 69,
   "metadata": {
    "collapsed": false
   },
   "outputs": [
    {
     "data": {
      "text/plain": [
       "<seaborn.axisgrid.PairGrid at 0x1630ea23eb8>"
      ]
     },
     "execution_count": 69,
     "metadata": {},
     "output_type": "execute_result"
    },
    {
     "data": {
      "image/png": "[encoded data removed]",
      "text/plain": [
       "<matplotlib.figure.Figure at 0x1630ea233c8>"
      ]
     },
     "metadata": {},
     "output_type": "display_data"
    }
   ],
   "source": [
    "sns.pairplot(frame_iris,hue=\"Espece\")"
   ]
  },
  {
   "cell_type": "markdown",
   "metadata": {},
   "source": [
    "### Etude des données AirBnB"
   ]
  },
  {
   "cell_type": "code",
   "execution_count": 70,
   "metadata": {
    "collapsed": false
   },
   "outputs": [
    {
     "name": "stdout",
     "output_type": "stream",
     "text": [
      "<class 'pandas.core.frame.DataFrame'>\n",
      "RangeIndex: 56535 entries, 0 to 56534\n",
      "Data columns (total 95 columns):\n",
      "id                                  56535 non-null int64\n",
      "listing_url                         56535 non-null object\n",
      "scrape_id                           56535 non-null int64\n",
      "last_scraped                        56535 non-null object\n",
      "name                                56532 non-null object\n",
      "summary                             54371 non-null object\n",
      "space                               39143 non-null object\n",
      "description                         56528 non-null object\n",
      "experiences_offered                 56535 non-null object\n",
      "neighborhood_overview               33772 non-null object\n",
      "notes                               18012 non-null object\n",
      "transit                             36224 non-null object\n",
      "access                              28756 non-null object\n",
      "interaction                         27064 non-null object\n",
      "house_rules                         30186 non-null object\n",
      "thumbnail_url                       37382 non-null object\n",
      "medium_url                          37382 non-null object\n",
      "picture_url                         56535 non-null object\n",
      "xl_picture_url                      37382 non-null object\n",
      "host_id                             56535 non-null int64\n",
      "host_url                            56535 non-null object\n",
      "host_name                           56524 non-null object\n",
      "host_since                          56524 non-null object\n",
      "host_location                       56329 non-null object\n",
      "host_about                          30895 non-null object\n",
      "host_response_time                  37808 non-null object\n",
      "host_response_rate                  37808 non-null object\n",
      "host_acceptance_rate                0 non-null float64\n",
      "host_is_superhost                   56524 non-null object\n",
      "host_thumbnail_url                  56524 non-null object\n",
      "host_picture_url                    56524 non-null object\n",
      "host_neighbourhood                  49524 non-null object\n",
      "host_listings_count                 56524 non-null float64\n",
      "host_total_listings_count           56524 non-null float64\n",
      "host_verifications                  56535 non-null object\n",
      "host_has_profile_pic                56524 non-null object\n",
      "host_identity_verified              56524 non-null object\n",
      "street                              56535 non-null object\n",
      "neighbourhood                       48442 non-null object\n",
      "neighbourhood_cleansed              56535 non-null object\n",
      "neighbourhood_group_cleansed        0 non-null float64\n",
      "city                                56505 non-null object\n",
      "state                               56462 non-null object\n",
      "zipcode                             55795 non-null object\n",
      "market                              56421 non-null object\n",
      "smart_location                      56535 non-null object\n",
      "country_code                        56535 non-null object\n",
      "country                             56535 non-null object\n",
      "latitude                            56535 non-null float64\n",
      "longitude                           56535 non-null float64\n",
      "is_location_exact                   56535 non-null object\n",
      "property_type                       56535 non-null object\n",
      "room_type                           56535 non-null object\n",
      "accommodates                        56535 non-null int64\n",
      "bathrooms                           56351 non-null float64\n",
      "bedrooms                            56401 non-null float64\n",
      "beds                                56460 non-null float64\n",
      "bed_type                            56535 non-null object\n",
      "amenities                           56535 non-null object\n",
      "square_feet                         2114 non-null float64\n",
      "price                               56535 non-null object\n",
      "weekly_price                        18658 non-null object\n",
      "monthly_price                       12346 non-null object\n",
      "security_deposit                    33521 non-null object\n",
      "cleaning_fee                        35787 non-null object\n",
      "guests_included                     56535 non-null int64\n",
      "extra_people                        56535 non-null object\n",
      "minimum_nights                      56535 non-null int64\n",
      "maximum_nights                      56535 non-null int64\n",
      "calendar_updated                    56535 non-null object\n",
      "has_availability                    0 non-null float64\n",
      "availability_30                     56535 non-null int64\n",
      "availability_60                     56535 non-null int64\n",
      "availability_90                     56535 non-null int64\n",
      "availability_365                    56535 non-null int64\n",
      "calendar_last_scraped               56535 non-null object\n",
      "number_of_reviews                   56535 non-null int64\n",
      "first_review                        42362 non-null object\n",
      "last_review                         42364 non-null object\n",
      "review_scores_rating                41545 non-null float64\n",
      "review_scores_accuracy              41437 non-null float64\n",
      "review_scores_cleanliness           41464 non-null float64\n",
      "review_scores_checkin               41411 non-null float64\n",
      "review_scores_communication         41456 non-null float64\n",
      "review_scores_location              41422 non-null float64\n",
      "review_scores_value                 41414 non-null float64\n",
      "requires_license                    56535 non-null object\n",
      "license                             2 non-null object\n",
      "jurisdiction_names                  55545 non-null object\n",
      "instant_bookable                    56535 non-null object\n",
      "cancellation_policy                 56535 non-null object\n",
      "require_guest_profile_picture       56535 non-null object\n",
      "require_guest_phone_verification    56535 non-null object\n",
      "calculated_host_listings_count      56535 non-null int64\n",
      "reviews_per_month                   42362 non-null float64\n",
      "dtypes: float64(19), int64(13), object(63)\n",
      "memory usage: 41.0+ MB\n"
     ]
    }
   ],
   "source": [
    "frame_airbnb.info()"
   ]
  },
  {
   "cell_type": "code",
   "execution_count": 71,
   "metadata": {
    "collapsed": false
   },
   "outputs": [],
   "source": [
    "#transformation de la variable\n",
    "frame_airbnb[\"price2\"]=frame_airbnb[\"price\"].str.replace(\"$\",\"\").str.replace(\",\",\"\").astype(float)"
   ]
  },
  {
   "cell_type": "code",
   "execution_count": 72,
   "metadata": {
    "collapsed": false
   },
   "outputs": [
    {
     "data": {
      "text/plain": [
       "96.11523834792607"
      ]
     },
     "execution_count": 72,
     "metadata": {},
     "output_type": "execute_result"
    }
   ],
   "source": [
    "frame_airbnb[\"price2\"].mean()"
   ]
  },
  {
   "cell_type": "code",
   "execution_count": 73,
   "metadata": {
    "collapsed": false
   },
   "outputs": [
    {
     "data": {
      "text/plain": [
       "0.0"
      ]
     },
     "execution_count": 73,
     "metadata": {},
     "output_type": "execute_result"
    }
   ],
   "source": [
    "frame_airbnb[\"price2\"].min()"
   ]
  },
  {
   "cell_type": "code",
   "execution_count": 74,
   "metadata": {
    "collapsed": false
   },
   "outputs": [
    {
     "data": {
      "text/plain": [
       "7790.0"
      ]
     },
     "execution_count": 74,
     "metadata": {},
     "output_type": "execute_result"
    }
   ],
   "source": [
    "frame_airbnb[\"price2\"].max()"
   ]
  },
  {
   "cell_type": "code",
   "execution_count": 75,
   "metadata": {
    "collapsed": false,
    "scrolled": true
   },
   "outputs": [
    {
     "data": {
      "text/plain": [
       "id                                                                            9442661\n",
       "listing_url                                      https://www.airbnb.com/rooms/9442661\n",
       "scrape_id                                                              20170404145355\n",
       "last_scraped                                                               2017-04-04\n",
       "name                                                 Lively studette in 19th district\n",
       "summary                             Located two steps away from the large merchant...\n",
       "space                               When ever I can I'm traveling here and there a...\n",
       "description                         Located two steps away from the large merchant...\n",
       "experiences_offered                                                              none\n",
       "neighborhood_overview                                                             NaN\n",
       "notes                                                                             NaN\n",
       "transit                             Close to the metro station Jourdain on line nu...\n",
       "access                                                                       TOTAL :D\n",
       "interaction                         Being the place where I live I can easly help ...\n",
       "house_rules                                                                       NaN\n",
       "thumbnail_url                                                                     NaN\n",
       "medium_url                                                                        NaN\n",
       "picture_url                         https://a0.muscache.com/im/pictures/1988c56a-5...\n",
       "xl_picture_url                                                                    NaN\n",
       "host_id                                                                       2865311\n",
       "host_url                                    https://www.airbnb.com/users/show/2865311\n",
       "host_name                                                                         Léo\n",
       "host_since                                                                 2012-07-08\n",
       "host_location                                            Paris, Île-de-France, France\n",
       "host_about                                                                        NaN\n",
       "host_response_time                                                                NaN\n",
       "host_response_rate                                                                NaN\n",
       "host_acceptance_rate                                                              NaN\n",
       "host_is_superhost                                                                   f\n",
       "host_thumbnail_url                  https://a0.muscache.com/im/pictures/c4c403a6-4...\n",
       "                                                          ...                        \n",
       "extra_people                                                                    $0.00\n",
       "minimum_nights                                                                    300\n",
       "maximum_nights                                                                   1125\n",
       "calendar_updated                                                          7 weeks ago\n",
       "has_availability                                                                  NaN\n",
       "availability_30                                                                     0\n",
       "availability_60                                                                     0\n",
       "availability_90                                                                     0\n",
       "availability_365                                                                  178\n",
       "calendar_last_scraped                                                      2017-04-04\n",
       "number_of_reviews                                                                  24\n",
       "first_review                                                               2015-11-13\n",
       "last_review                                                                2016-11-17\n",
       "review_scores_rating                                                               94\n",
       "review_scores_accuracy                                                             10\n",
       "review_scores_cleanliness                                                           9\n",
       "review_scores_checkin                                                              10\n",
       "review_scores_communication                                                        10\n",
       "review_scores_location                                                             10\n",
       "review_scores_value                                                                10\n",
       "requires_license                                                                    f\n",
       "license                                                                           NaN\n",
       "jurisdiction_names                                                              Paris\n",
       "instant_bookable                                                                    f\n",
       "cancellation_policy                                                          moderate\n",
       "require_guest_profile_picture                                                       f\n",
       "require_guest_phone_verification                                                    f\n",
       "calculated_host_listings_count                                                      1\n",
       "reviews_per_month                                                                1.41\n",
       "price2                                                                           5000\n",
       "Name: 8685, Length: 96, dtype: object"
      ]
     },
     "execution_count": 75,
     "metadata": {},
     "output_type": "execute_result"
    }
   ],
   "source": [
    "frame_airbnb.loc[8685]"
   ]
  },
  {
   "cell_type": "code",
   "execution_count": 76,
   "metadata": {
    "collapsed": false
   },
   "outputs": [],
   "source": [
    "frame_airbnb[\"price3\"]=np.where(frame_airbnb[\"price2\"]>300,300,frame_airbnb[\"price2\"])"
   ]
  },
  {
   "cell_type": "code",
   "execution_count": 77,
   "metadata": {
    "collapsed": false
   },
   "outputs": [
    {
     "data": {
      "image/png": "[encoded data removed]",
      "text/plain": [
       "<matplotlib.figure.Figure at 0x16312f22a20>"
      ]
     },
     "metadata": {},
     "output_type": "display_data"
    }
   ],
   "source": [
    "plt.scatter(\"longitude\", \"latitude\", s=0.1, c=\"price3\", data=frame_airbnb, cmap=plt.get_cmap(\"jet\"))\n",
    "plt.colorbar()\n",
    "plt.savefig(\"paris_airbnb\")"
   ]
  },
  {
   "cell_type": "markdown",
   "metadata": {
    "collapsed": true
   },
   "source": [
    "Récupérer les données housing\n",
    "Représenter les communes en fonction de la leur population\n",
    "Les couleurs en fonction de l'income"
   ]
  },
  {
   "cell_type": "code",
   "execution_count": 78,
   "metadata": {
    "collapsed": true
   },
   "outputs": [],
   "source": [
    "frame_house=pd.read_csv(\"housing.csv\")"
   ]
  },
  {
   "cell_type": "code",
   "execution_count": 79,
   "metadata": {
    "collapsed": true
   },
   "outputs": [],
   "source": [
    "import matplotlib.image as mpimg\n",
    "calif_image=mpimg.imread(\"California.png\")"
   ]
  },
  {
   "cell_type": "code",
   "execution_count": 80,
   "metadata": {
    "collapsed": false
   },
   "outputs": [
    {
     "data": {
      "text/plain": [
       "<matplotlib.image.AxesImage at 0x1630924a198>"
      ]
     },
     "execution_count": 80,
     "metadata": {},
     "output_type": "execute_result"
    },
    {
     "data": {
      "image/png": "[encoded data removed]",
      "text/plain": [
       "<matplotlib.figure.Figure at 0x16313298940>"
      ]
     },
     "metadata": {},
     "output_type": "display_data"
    }
   ],
   "source": [
    "plt.scatter(\"longitude\", \"latitude\",data=frame_house, s=frame_house[\"population\"]/100,\n",
    "           c=\"median_income\",cmap=plt.get_cmap(\"rainbow\"))\n",
    "plt.grid(False)\n",
    "plt.colorbar()\n",
    "plt.imshow(calif_image, alpha=0.5,extent=[-124.55, -113.80, 32.45, 42.05])\n"
   ]
  }
 ],
 "metadata": {
  "kernelspec": {
   "display_name": "Python 3",
   "language": "python",
   "name": "python3"
  },
  "language_info": {
   "codemirror_mode": {
    "name": "ipython",
    "version": 3
   },
   "file_extension": ".py",
   "mimetype": "text/x-python",
   "name": "python",
   "nbconvert_exporter": "python",
   "pygments_lexer": "ipython3",
   "version": "3.6.2"
  }
 },
 "nbformat": 4,
 "nbformat_minor": 2
}
